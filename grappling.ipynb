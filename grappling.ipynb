{
 "cells": [
  {
   "cell_type": "code",
   "execution_count": 2,
   "metadata": {},
   "outputs": [],
   "source": [
    "import os, pickle, matplotlib.pyplot"
   ]
  },
  {
   "cell_type": "code",
   "execution_count": 6,
   "metadata": {},
   "outputs": [],
   "source": [
    "with open('eeg.pkl', 'rb') as f:\n",
    "    data = pickle.load(f)"
   ]
  },
  {
   "cell_type": "code",
   "execution_count": 8,
   "metadata": {},
   "outputs": [],
   "source": [
    "timestamps = []\n",
    "for x in range(len(data)):\n",
    "    for y in data[x].keys():\n",
    "        timestamps.append(y)"
   ]
  },
  {
   "cell_type": "code",
   "execution_count": 9,
   "metadata": {},
   "outputs": [],
   "source": [
    "deltas = []\n",
    "thetas = []\n",
    "alphas = []\n",
    "betas = []\n",
    "gammas = []"
   ]
  },
  {
   "cell_type": "code",
   "execution_count": 10,
   "metadata": {},
   "outputs": [],
   "source": [
    "for x in range(len(data)):\n",
    "    for y in data[x].values():\n",
    "        for z in range(len(y[0])):\n",
    "            if z == 0:\n",
    "                deltas.append(y[0][z])\n",
    "            elif z == 1:\n",
    "                thetas.append(y[0][z])\n",
    "            elif z == 2:\n",
    "                alphas.append(y[0][z])\n",
    "            elif z == 3:\n",
    "                betas.append(y[0][z])\n",
    "            elif z == 4:\n",
    "                gammas.append(y[0][z])"
   ]
  },
  {
   "cell_type": "code",
   "execution_count": 13,
   "metadata": {},
   "outputs": [],
   "source": [
    "smooth_deltas = []\n",
    "smooth_thetas = []\n",
    "smooth_alphas = []\n",
    "smooth_betas = []\n",
    "smooth_gammas = []"
   ]
  },
  {
   "cell_type": "code",
   "execution_count": 14,
   "metadata": {},
   "outputs": [],
   "source": [
    "for x in range(len(data)):\n",
    "    for y in data[x].values():\n",
    "        for z in range(len(y[1])):\n",
    "            if z == 0:\n",
    "                smooth_deltas.append(y[1][z])\n",
    "            elif z == 1:\n",
    "                smooth_thetas.append(y[1][z])\n",
    "            elif z == 2:\n",
    "                smooth_alphas.append(y[1][z])\n",
    "            elif z == 3:\n",
    "                smooth_betas.append(y[1][z])\n",
    "            elif z == 4:\n",
    "                smooth_gammas.append(y[1][z])"
   ]
  },
  {
   "cell_type": "code",
   "execution_count": null,
   "metadata": {},
   "outputs": [],
   "source": []
  }
 ],
 "metadata": {
  "kernelspec": {
   "display_name": "Python 3",
   "language": "python",
   "name": "python3"
  },
  "language_info": {
   "codemirror_mode": {
    "name": "ipython",
    "version": 3
   },
   "file_extension": ".py",
   "mimetype": "text/x-python",
   "name": "python",
   "nbconvert_exporter": "python",
   "pygments_lexer": "ipython3",
   "version": "3.5.3"
  }
 },
 "nbformat": 4,
 "nbformat_minor": 4
}
