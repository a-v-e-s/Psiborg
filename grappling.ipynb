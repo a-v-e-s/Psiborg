{
 "cells": [
  {
   "cell_type": "code",
   "execution_count": null,
   "metadata": {},
   "outputs": [],
   "source": [
    "import os, pickle, sqlite3\n",
    "import matplotlib.pylab as pyl\n",
    "from tkinter.filedialog import askopenfilename"
   ]
  },
  {
   "cell_type": "code",
   "execution_count": null,
   "metadata": {},
   "outputs": [],
   "source": [
    "filename = askopenfilename()\n",
    "with open(filename, 'rb') as f:\n",
    "    data = pickle.load(f)"
   ]
  },
  {
   "cell_type": "code",
   "execution_count": null,
   "metadata": {},
   "outputs": [],
   "source": [
    "timestamps = []\n",
    "for x in range(len(data)):\n",
    "    for y in data[x].keys():\n",
    "        timestamps.append(y)"
   ]
  },
  {
   "cell_type": "code",
   "execution_count": null,
   "metadata": {},
   "outputs": [],
   "source": [
    "#if input('Do you want to work with data from the sqlite database? [y/n]').lower() == 'y':\n",
    "db = sqlite3.Connection('db.sqlite')\n",
    "curs = db.cursor()\n",
    "tables = curs.execute(\"SELECT name FROM sqlite_master WHERE type='table' ORDER BY name;\").fetchall()[2:]\n",
    "tables = [x[0] for x in tables]\n",
    "for x in tables:\n",
    "    start_time = curs.execute('SELECT MIN(Timestamp) FROM ' + x + ';').fetchall()[0][0]\n",
    "    if start_time > timestamps[0] and start_time < timestamps[-1]:\n",
    "        table = x\n",
    "        break\n",
    "try:\n",
    "    print('Using table: ' + table)\n",
    "except NameError:\n",
    "    print('Could not find a table with timestamps matching EEG data.')\n",
    "    table = None\n",
    "    curs.close()\n",
    "    db.close()\n",
    "#else:\n",
    "#    table = None\n",
    "#\n",
    "os.chdir(os.path.dirname(filename))"
   ]
  },
  {
   "cell_type": "code",
   "execution_count": null,
   "metadata": {},
   "outputs": [],
   "source": [
    "deltas = []\n",
    "thetas = []\n",
    "alphas = []\n",
    "betas = []\n",
    "gammas = []"
   ]
  },
  {
   "cell_type": "code",
   "execution_count": null,
   "metadata": {},
   "outputs": [],
   "source": [
    "for x in range(len(data)):\n",
    "    for y in data[x].values():\n",
    "        for z in range(len(y[0])):\n",
    "            if z == 0:\n",
    "                deltas.append(y[0][z])\n",
    "            elif z == 1:\n",
    "                thetas.append(y[0][z])\n",
    "            elif z == 2:\n",
    "                alphas.append(y[0][z])\n",
    "            elif z == 3:\n",
    "                betas.append(y[0][z])\n",
    "            elif z == 4:\n",
    "                gammas.append(y[0][z])"
   ]
  },
  {
   "cell_type": "code",
   "execution_count": null,
   "metadata": {},
   "outputs": [],
   "source": [
    "delta_abs = [abs(x) for x in deltas]\n",
    "theta_abs = [abs(x) for x in thetas]\n",
    "alpha_abs = [abs(x) for x in alphas]\n",
    "beta_abs = [abs(x) for x in betas]\n",
    "gamma_abs = [abs(x) for x in gammas]"
   ]
  },
  {
   "cell_type": "code",
   "execution_count": null,
   "metadata": {},
   "outputs": [],
   "source": [
    "smooth_deltas = []\n",
    "smooth_thetas = []\n",
    "smooth_alphas = []\n",
    "smooth_betas = []\n",
    "smooth_gammas = []"
   ]
  },
  {
   "cell_type": "code",
   "execution_count": null,
   "metadata": {},
   "outputs": [],
   "source": [
    "for x in range(len(data)):\n",
    "    for y in data[x].values():\n",
    "        for z in range(len(y[1])):\n",
    "            if z == 0:\n",
    "                smooth_deltas.append(y[1][z])\n",
    "            elif z == 1:\n",
    "                smooth_thetas.append(y[1][z])\n",
    "            elif z == 2:\n",
    "                smooth_alphas.append(y[1][z])\n",
    "            elif z == 3:\n",
    "                smooth_betas.append(y[1][z])\n",
    "            elif z == 4:\n",
    "                smooth_gammas.append(y[1][z])"
   ]
  },
  {
   "cell_type": "code",
   "execution_count": null,
   "metadata": {},
   "outputs": [],
   "source": [
    "# am i going to use these?\n",
    "sm_delta_abs = [abs(x) for x in smooth_deltas]\n",
    "sm_theta_abs = [abs(x) for x in smooth_thetas]\n",
    "sm_alpha_abs = [abs(x) for x in smooth_alphas]\n",
    "sm_beta_abs = [abs(x) for x in smooth_betas]\n",
    "sm_gamma_abs = [abs(x) for x in smooth_gammas]"
   ]
  },
  {
   "cell_type": "code",
   "execution_count": null,
   "metadata": {},
   "outputs": [],
   "source": [
    "if table is not None:\n",
    "    corrects = curs.execute('select timestamp from ' + table + ' where Correct=1;').fetchall()\n",
    "    incorrects = curs.execute('select timestamp from ' + table + ' where Correct=0;').fetchall()"
   ]
  },
  {
   "cell_type": "code",
   "execution_count": null,
   "metadata": {},
   "outputs": [],
   "source": [
    "pyl.plot(timestamps, smooth_deltas, color='black')\n",
    "pyl.xlabel('Time')\n",
    "pyl.ylabel('Power?')\n",
    "if table is not None:\n",
    "    for a in corrects:\n",
    "        pyl.axvline(x=a, color='purple')\n",
    "    for b in incorrects:\n",
    "        pyl.axvline(x=b, color='orange')"
   ]
  },
  {
   "cell_type": "code",
   "execution_count": 63,
   "metadata": {},
   "outputs": [
    {
     "data": {
      "image/png": "[encoded data removed]",
      "image/svg+xml": "<?xml version=\"1.0\" encoding=\"utf-8\" standalone=\"no\"?>\n<!DOCTYPE svg PUBLIC \"-//W3C//DTD SVG 1.1//EN\"\n  \"http://www.w3.org/Graphics/SVG/1.1/DTD/svg11.dtd\">\n<!-- Created with matplotlib (https://matplotlib.org/) -->\n<svg height=\"265.69625pt\" version=\"1.1\" viewBox=\"0 0 389.28125 265.69625\" width=\"389.28125pt\" xmlns=\"http://www.w3.org/2000/svg\" xmlns:xlink=\"http://www.w3.org/1999/xlink\">\n <defs>\n  <style type=\"text/css\">\n*{stroke-linecap:butt;stroke-linejoin:round;}\n  </style>\n </defs>\n <g id=\"figure_1\">\n  <g id=\"patch_1\">\n   <path d=\"M 0 265.69625 \nL 389.28125 265.69625 \nL 389.28125 0 \nL 0 0 \nz\n\" style=\"fill:none;\"/>\n  </g>\n  <g id=\"axes_1\">\n   <g id=\"patch_2\">\n    <path d=\"M 43.78125 228.14 \nL 378.58125 228.14 \nL 378.58125 10.7 \nL 43.78125 10.7 \nz\n\" style=\"fill:#ffffff;\"/>\n   </g>\n   <g id=\"matplotlib.axis_1\">\n    <g id=\"xtick_1\">\n     <g id=\"line2d_1\">\n      <defs>\n       <path d=\"M 0 0 \nL 0 3.5 \n\" id=\"m9142ec5776\" style=\"stroke:#000000;stroke-width:0.8;\"/>\n      </defs>\n      <g>\n       <use style=\"stroke:#000000;stroke-width:0.8;\" x=\"53.340033\" xlink:href=\"#m9142ec5776\" y=\"228.14\"/>\n      </g>\n     </g>\n     <g id=\"text_1\">\n      <!-- 8700 -->\n      <defs>\n       <path d=\"M 31.78125 34.625 \nQ 24.75 34.625 20.71875 30.859375 \nQ 16.703125 27.09375 16.703125 20.515625 \nQ 16.703125 13.921875 20.71875 10.15625 \nQ 24.75 6.390625 31.78125 6.390625 \nQ 38.8125 6.390625 42.859375 10.171875 \nQ 46.921875 13.96875 46.921875 20.515625 \nQ 46.921875 27.09375 42.890625 30.859375 \nQ 38.875 34.625 31.78125 34.625 \nz\nM 21.921875 38.8125 \nQ 15.578125 40.375 12.03125 44.71875 \nQ 8.5 49.078125 8.5 55.328125 \nQ 8.5 64.0625 14.71875 69.140625 \nQ 20.953125 74.21875 31.78125 74.21875 \nQ 42.671875 74.21875 48.875 69.140625 \nQ 55.078125 64.0625 55.078125 55.328125 \nQ 55.078125 49.078125 51.53125 44.71875 \nQ 48 40.375 41.703125 38.8125 \nQ 48.828125 37.15625 52.796875 32.3125 \nQ 56.78125 27.484375 56.78125 20.515625 \nQ 56.78125 9.90625 50.3125 4.234375 \nQ 43.84375 -1.421875 31.78125 -1.421875 \nQ 19.734375 -1.421875 13.25 4.234375 \nQ 6.78125 9.90625 6.78125 20.515625 \nQ 6.78125 27.484375 10.78125 32.3125 \nQ 14.796875 37.15625 21.921875 38.8125 \nz\nM 18.3125 54.390625 \nQ 18.3125 48.734375 21.84375 45.5625 \nQ 25.390625 42.390625 31.78125 42.390625 \nQ 38.140625 42.390625 41.71875 45.5625 \nQ 45.3125 48.734375 45.3125 54.390625 \nQ 45.3125 60.0625 41.71875 63.234375 \nQ 38.140625 66.40625 31.78125 66.40625 \nQ 25.390625 66.40625 21.84375 63.234375 \nQ 18.3125 60.0625 18.3125 54.390625 \nz\n\" id=\"DejaVuSans-56\"/>\n       <path d=\"M 8.203125 72.90625 \nL 55.078125 72.90625 \nL 55.078125 68.703125 \nL 28.609375 0 \nL 18.3125 0 \nL 43.21875 64.59375 \nL 8.203125 64.59375 \nz\n\" id=\"DejaVuSans-55\"/>\n       <path d=\"M 31.78125 66.40625 \nQ 24.171875 66.40625 20.328125 58.90625 \nQ 16.5 51.421875 16.5 36.375 \nQ 16.5 21.390625 20.328125 13.890625 \nQ 24.171875 6.390625 31.78125 6.390625 \nQ 39.453125 6.390625 43.28125 13.890625 \nQ 47.125 21.390625 47.125 36.375 \nQ 47.125 51.421875 43.28125 58.90625 \nQ 39.453125 66.40625 31.78125 66.40625 \nz\nM 31.78125 74.21875 \nQ 44.046875 74.21875 50.515625 64.515625 \nQ 56.984375 54.828125 56.984375 36.375 \nQ 56.984375 17.96875 50.515625 8.265625 \nQ 44.046875 -1.421875 31.78125 -1.421875 \nQ 19.53125 -1.421875 13.0625 8.265625 \nQ 6.59375 17.96875 6.59375 36.375 \nQ 6.59375 54.828125 13.0625 64.515625 \nQ 19.53125 74.21875 31.78125 74.21875 \nz\n\" id=\"DejaVuSans-48\"/>\n      </defs>\n      <g transform=\"translate(40.615033 242.738437)scale(0.1 -0.1)\">\n       <use xlink:href=\"#DejaVuSans-56\"/>\n       <use x=\"63.623047\" xlink:href=\"#DejaVuSans-55\"/>\n       <use x=\"127.246094\" xlink:href=\"#DejaVuSans-48\"/>\n       <use x=\"190.869141\" xlink:href=\"#DejaVuSans-48\"/>\n      </g>\n     </g>\n    </g>\n    <g id=\"xtick_2\">\n     <g id=\"line2d_2\">\n      <g>\n       <use style=\"stroke:#000000;stroke-width:0.8;\" x=\"104.311377\" xlink:href=\"#m9142ec5776\" y=\"228.14\"/>\n      </g>\n     </g>\n     <g id=\"text_2\">\n      <!-- 8800 -->\n      <g transform=\"translate(91.586377 242.738437)scale(0.1 -0.1)\">\n       <use xlink:href=\"#DejaVuSans-56\"/>\n       <use x=\"63.623047\" xlink:href=\"#DejaVuSans-56\"/>\n       <use x=\"127.246094\" xlink:href=\"#DejaVuSans-48\"/>\n       <use x=\"190.869141\" xlink:href=\"#DejaVuSans-48\"/>\n      </g>\n     </g>\n    </g>\n    <g id=\"xtick_3\">\n     <g id=\"line2d_3\">\n      <g>\n       <use style=\"stroke:#000000;stroke-width:0.8;\" x=\"155.282721\" xlink:href=\"#m9142ec5776\" y=\"228.14\"/>\n      </g>\n     </g>\n     <g id=\"text_3\">\n      <!-- 8900 -->\n      <defs>\n       <path d=\"M 10.984375 1.515625 \nL 10.984375 10.5 \nQ 14.703125 8.734375 18.5 7.8125 \nQ 22.3125 6.890625 25.984375 6.890625 \nQ 35.75 6.890625 40.890625 13.453125 \nQ 46.046875 20.015625 46.78125 33.40625 \nQ 43.953125 29.203125 39.59375 26.953125 \nQ 35.25 24.703125 29.984375 24.703125 \nQ 19.046875 24.703125 12.671875 31.3125 \nQ 6.296875 37.9375 6.296875 49.421875 \nQ 6.296875 60.640625 12.9375 67.421875 \nQ 19.578125 74.21875 30.609375 74.21875 \nQ 43.265625 74.21875 49.921875 64.515625 \nQ 56.59375 54.828125 56.59375 36.375 \nQ 56.59375 19.140625 48.40625 8.859375 \nQ 40.234375 -1.421875 26.421875 -1.421875 \nQ 22.703125 -1.421875 18.890625 -0.6875 \nQ 15.09375 0.046875 10.984375 1.515625 \nz\nM 30.609375 32.421875 \nQ 37.25 32.421875 41.125 36.953125 \nQ 45.015625 41.5 45.015625 49.421875 \nQ 45.015625 57.28125 41.125 61.84375 \nQ 37.25 66.40625 30.609375 66.40625 \nQ 23.96875 66.40625 20.09375 61.84375 \nQ 16.21875 57.28125 16.21875 49.421875 \nQ 16.21875 41.5 20.09375 36.953125 \nQ 23.96875 32.421875 30.609375 32.421875 \nz\n\" id=\"DejaVuSans-57\"/>\n      </defs>\n      <g transform=\"translate(142.557721 242.738437)scale(0.1 -0.1)\">\n       <use xlink:href=\"#DejaVuSans-56\"/>\n       <use x=\"63.623047\" xlink:href=\"#DejaVuSans-57\"/>\n       <use x=\"127.246094\" xlink:href=\"#DejaVuSans-48\"/>\n       <use x=\"190.869141\" xlink:href=\"#DejaVuSans-48\"/>\n      </g>\n     </g>\n    </g>\n    <g id=\"xtick_4\">\n     <g id=\"line2d_4\">\n      <g>\n       <use style=\"stroke:#000000;stroke-width:0.8;\" x=\"206.254065\" xlink:href=\"#m9142ec5776\" y=\"228.14\"/>\n      </g>\n     </g>\n     <g id=\"text_4\">\n      <!-- 9000 -->\n      <g transform=\"translate(193.529065 242.738437)scale(0.1 -0.1)\">\n       <use xlink:href=\"#DejaVuSans-57\"/>\n       <use x=\"63.623047\" xlink:href=\"#DejaVuSans-48\"/>\n       <use x=\"127.246094\" xlink:href=\"#DejaVuSans-48\"/>\n       <use x=\"190.869141\" xlink:href=\"#DejaVuSans-48\"/>\n      </g>\n     </g>\n    </g>\n    <g id=\"xtick_5\">\n     <g id=\"line2d_5\">\n      <g>\n       <use style=\"stroke:#000000;stroke-width:0.8;\" x=\"257.225409\" xlink:href=\"#m9142ec5776\" y=\"228.14\"/>\n      </g>\n     </g>\n     <g id=\"text_5\">\n      <!-- 9100 -->\n      <defs>\n       <path d=\"M 12.40625 8.296875 \nL 28.515625 8.296875 \nL 28.515625 63.921875 \nL 10.984375 60.40625 \nL 10.984375 69.390625 \nL 28.421875 72.90625 \nL 38.28125 72.90625 \nL 38.28125 8.296875 \nL 54.390625 8.296875 \nL 54.390625 0 \nL 12.40625 0 \nz\n\" id=\"DejaVuSans-49\"/>\n      </defs>\n      <g transform=\"translate(244.500409 242.738437)scale(0.1 -0.1)\">\n       <use xlink:href=\"#DejaVuSans-57\"/>\n       <use x=\"63.623047\" xlink:href=\"#DejaVuSans-49\"/>\n       <use x=\"127.246094\" xlink:href=\"#DejaVuSans-48\"/>\n       <use x=\"190.869141\" xlink:href=\"#DejaVuSans-48\"/>\n      </g>\n     </g>\n    </g>\n    <g id=\"xtick_6\">\n     <g id=\"line2d_6\">\n      <g>\n       <use style=\"stroke:#000000;stroke-width:0.8;\" x=\"308.196754\" xlink:href=\"#m9142ec5776\" y=\"228.14\"/>\n      </g>\n     </g>\n     <g id=\"text_6\">\n      <!-- 9200 -->\n      <defs>\n       <path d=\"M 19.1875 8.296875 \nL 53.609375 8.296875 \nL 53.609375 0 \nL 7.328125 0 \nL 7.328125 8.296875 \nQ 12.9375 14.109375 22.625 23.890625 \nQ 32.328125 33.6875 34.8125 36.53125 \nQ 39.546875 41.84375 41.421875 45.53125 \nQ 43.3125 49.21875 43.3125 52.78125 \nQ 43.3125 58.59375 39.234375 62.25 \nQ 35.15625 65.921875 28.609375 65.921875 \nQ 23.96875 65.921875 18.8125 64.3125 \nQ 13.671875 62.703125 7.8125 59.421875 \nL 7.8125 69.390625 \nQ 13.765625 71.78125 18.9375 73 \nQ 24.125 74.21875 28.421875 74.21875 \nQ 39.75 74.21875 46.484375 68.546875 \nQ 53.21875 62.890625 53.21875 53.421875 \nQ 53.21875 48.921875 51.53125 44.890625 \nQ 49.859375 40.875 45.40625 35.40625 \nQ 44.1875 33.984375 37.640625 27.21875 \nQ 31.109375 20.453125 19.1875 8.296875 \nz\n\" id=\"DejaVuSans-50\"/>\n      </defs>\n      <g transform=\"translate(295.471754 242.738437)scale(0.1 -0.1)\">\n       <use xlink:href=\"#DejaVuSans-57\"/>\n       <use x=\"63.623047\" xlink:href=\"#DejaVuSans-50\"/>\n       <use x=\"127.246094\" xlink:href=\"#DejaVuSans-48\"/>\n       <use x=\"190.869141\" xlink:href=\"#DejaVuSans-48\"/>\n      </g>\n     </g>\n    </g>\n    <g id=\"xtick_7\">\n     <g id=\"line2d_7\">\n      <g>\n       <use style=\"stroke:#000000;stroke-width:0.8;\" x=\"359.168098\" xlink:href=\"#m9142ec5776\" y=\"228.14\"/>\n      </g>\n     </g>\n     <g id=\"text_7\">\n      <!-- 9300 -->\n      <defs>\n       <path d=\"M 40.578125 39.3125 \nQ 47.65625 37.796875 51.625 33 \nQ 55.609375 28.21875 55.609375 21.1875 \nQ 55.609375 10.40625 48.1875 4.484375 \nQ 40.765625 -1.421875 27.09375 -1.421875 \nQ 22.515625 -1.421875 17.65625 -0.515625 \nQ 12.796875 0.390625 7.625 2.203125 \nL 7.625 11.71875 \nQ 11.71875 9.328125 16.59375 8.109375 \nQ 21.484375 6.890625 26.8125 6.890625 \nQ 36.078125 6.890625 40.9375 10.546875 \nQ 45.796875 14.203125 45.796875 21.1875 \nQ 45.796875 27.640625 41.28125 31.265625 \nQ 36.765625 34.90625 28.71875 34.90625 \nL 20.21875 34.90625 \nL 20.21875 43.015625 \nL 29.109375 43.015625 \nQ 36.375 43.015625 40.234375 45.921875 \nQ 44.09375 48.828125 44.09375 54.296875 \nQ 44.09375 59.90625 40.109375 62.90625 \nQ 36.140625 65.921875 28.71875 65.921875 \nQ 24.65625 65.921875 20.015625 65.03125 \nQ 15.375 64.15625 9.8125 62.3125 \nL 9.8125 71.09375 \nQ 15.4375 72.65625 20.34375 73.4375 \nQ 25.25 74.21875 29.59375 74.21875 \nQ 40.828125 74.21875 47.359375 69.109375 \nQ 53.90625 64.015625 53.90625 55.328125 \nQ 53.90625 49.265625 50.4375 45.09375 \nQ 46.96875 40.921875 40.578125 39.3125 \nz\n\" id=\"DejaVuSans-51\"/>\n      </defs>\n      <g transform=\"translate(346.443098 242.738437)scale(0.1 -0.1)\">\n       <use xlink:href=\"#DejaVuSans-57\"/>\n       <use x=\"63.623047\" xlink:href=\"#DejaVuSans-51\"/>\n       <use x=\"127.246094\" xlink:href=\"#DejaVuSans-48\"/>\n       <use x=\"190.869141\" xlink:href=\"#DejaVuSans-48\"/>\n      </g>\n     </g>\n    </g>\n    <g id=\"text_8\">\n     <!-- Time -->\n     <defs>\n      <path d=\"M -0.296875 72.90625 \nL 61.375 72.90625 \nL 61.375 64.59375 \nL 35.5 64.59375 \nL 35.5 0 \nL 25.59375 0 \nL 25.59375 64.59375 \nL -0.296875 64.59375 \nz\n\" id=\"DejaVuSans-84\"/>\n      <path d=\"M 9.421875 54.6875 \nL 18.40625 54.6875 \nL 18.40625 0 \nL 9.421875 0 \nz\nM 9.421875 75.984375 \nL 18.40625 75.984375 \nL 18.40625 64.59375 \nL 9.421875 64.59375 \nz\n\" id=\"DejaVuSans-105\"/>\n      <path d=\"M 52 44.1875 \nQ 55.375 50.25 60.0625 53.125 \nQ 64.75 56 71.09375 56 \nQ 79.640625 56 84.28125 50.015625 \nQ 88.921875 44.046875 88.921875 33.015625 \nL 88.921875 0 \nL 79.890625 0 \nL 79.890625 32.71875 \nQ 79.890625 40.578125 77.09375 44.375 \nQ 74.3125 48.1875 68.609375 48.1875 \nQ 61.625 48.1875 57.5625 43.546875 \nQ 53.515625 38.921875 53.515625 30.90625 \nL 53.515625 0 \nL 44.484375 0 \nL 44.484375 32.71875 \nQ 44.484375 40.625 41.703125 44.40625 \nQ 38.921875 48.1875 33.109375 48.1875 \nQ 26.21875 48.1875 22.15625 43.53125 \nQ 18.109375 38.875 18.109375 30.90625 \nL 18.109375 0 \nL 9.078125 0 \nL 9.078125 54.6875 \nL 18.109375 54.6875 \nL 18.109375 46.1875 \nQ 21.1875 51.21875 25.484375 53.609375 \nQ 29.78125 56 35.6875 56 \nQ 41.65625 56 45.828125 52.96875 \nQ 50 49.953125 52 44.1875 \nz\n\" id=\"DejaVuSans-109\"/>\n      <path d=\"M 56.203125 29.59375 \nL 56.203125 25.203125 \nL 14.890625 25.203125 \nQ 15.484375 15.921875 20.484375 11.0625 \nQ 25.484375 6.203125 34.421875 6.203125 \nQ 39.59375 6.203125 44.453125 7.46875 \nQ 49.3125 8.734375 54.109375 11.28125 \nL 54.109375 2.78125 \nQ 49.265625 0.734375 44.1875 -0.34375 \nQ 39.109375 -1.421875 33.890625 -1.421875 \nQ 20.796875 -1.421875 13.15625 6.1875 \nQ 5.515625 13.8125 5.515625 26.8125 \nQ 5.515625 40.234375 12.765625 48.109375 \nQ 20.015625 56 32.328125 56 \nQ 43.359375 56 49.78125 48.890625 \nQ 56.203125 41.796875 56.203125 29.59375 \nz\nM 47.21875 32.234375 \nQ 47.125 39.59375 43.09375 43.984375 \nQ 39.0625 48.390625 32.421875 48.390625 \nQ 24.90625 48.390625 20.390625 44.140625 \nQ 15.875 39.890625 15.1875 32.171875 \nz\n\" id=\"DejaVuSans-101\"/>\n     </defs>\n     <g transform=\"translate(198.79375 256.416562)scale(0.1 -0.1)\">\n      <use xlink:href=\"#DejaVuSans-84\"/>\n      <use x=\"61.037109\" xlink:href=\"#DejaVuSans-105\"/>\n      <use x=\"88.820312\" xlink:href=\"#DejaVuSans-109\"/>\n      <use x=\"186.232422\" xlink:href=\"#DejaVuSans-101\"/>\n     </g>\n    </g>\n    <g id=\"text_9\">\n     <!-- +1.57917e9 -->\n     <defs>\n      <path d=\"M 46 62.703125 \nL 46 35.5 \nL 73.1875 35.5 \nL 73.1875 27.203125 \nL 46 27.203125 \nL 46 0 \nL 37.796875 0 \nL 37.796875 27.203125 \nL 10.59375 27.203125 \nL 10.59375 35.5 \nL 37.796875 35.5 \nL 37.796875 62.703125 \nz\n\" id=\"DejaVuSans-43\"/>\n      <path d=\"M 10.6875 12.40625 \nL 21 12.40625 \nL 21 0 \nL 10.6875 0 \nz\n\" id=\"DejaVuSans-46\"/>\n      <path d=\"M 10.796875 72.90625 \nL 49.515625 72.90625 \nL 49.515625 64.59375 \nL 19.828125 64.59375 \nL 19.828125 46.734375 \nQ 21.96875 47.46875 24.109375 47.828125 \nQ 26.265625 48.1875 28.421875 48.1875 \nQ 40.625 48.1875 47.75 41.5 \nQ 54.890625 34.8125 54.890625 23.390625 \nQ 54.890625 11.625 47.5625 5.09375 \nQ 40.234375 -1.421875 26.90625 -1.421875 \nQ 22.3125 -1.421875 17.546875 -0.640625 \nQ 12.796875 0.140625 7.71875 1.703125 \nL 7.71875 11.625 \nQ 12.109375 9.234375 16.796875 8.0625 \nQ 21.484375 6.890625 26.703125 6.890625 \nQ 35.15625 6.890625 40.078125 11.328125 \nQ 45.015625 15.765625 45.015625 23.390625 \nQ 45.015625 31 40.078125 35.4375 \nQ 35.15625 39.890625 26.703125 39.890625 \nQ 22.75 39.890625 18.8125 39.015625 \nQ 14.890625 38.140625 10.796875 36.28125 \nz\n\" id=\"DejaVuSans-53\"/>\n     </defs>\n     <g transform=\"translate(316.332812 255.416562)scale(0.1 -0.1)\">\n      <use xlink:href=\"#DejaVuSans-43\"/>\n      <use x=\"83.789062\" xlink:href=\"#DejaVuSans-49\"/>\n      <use x=\"147.412109\" xlink:href=\"#DejaVuSans-46\"/>\n      <use x=\"179.199219\" xlink:href=\"#DejaVuSans-53\"/>\n      <use x=\"242.822266\" xlink:href=\"#DejaVuSans-55\"/>\n      <use x=\"306.445312\" xlink:href=\"#DejaVuSans-57\"/>\n      <use x=\"370.068359\" xlink:href=\"#DejaVuSans-49\"/>\n      <use x=\"433.691406\" xlink:href=\"#DejaVuSans-55\"/>\n      <use x=\"497.314453\" xlink:href=\"#DejaVuSans-101\"/>\n      <use x=\"558.837891\" xlink:href=\"#DejaVuSans-57\"/>\n     </g>\n    </g>\n   </g>\n   <g id=\"matplotlib.axis_2\">\n    <g id=\"ytick_1\">\n     <g id=\"line2d_8\">\n      <defs>\n       <path d=\"M 0 0 \nL -3.5 0 \n\" id=\"m2f820e8fd8\" style=\"stroke:#000000;stroke-width:0.8;\"/>\n      </defs>\n      <g>\n       <use style=\"stroke:#000000;stroke-width:0.8;\" x=\"43.78125\" xlink:href=\"#m2f820e8fd8\" y=\"194.738326\"/>\n      </g>\n     </g>\n     <g id=\"text_10\">\n      <!-- 0.0 -->\n      <g transform=\"translate(20.878125 198.537544)scale(0.1 -0.1)\">\n       <use xlink:href=\"#DejaVuSans-48\"/>\n       <use x=\"63.623047\" xlink:href=\"#DejaVuSans-46\"/>\n       <use x=\"95.410156\" xlink:href=\"#DejaVuSans-48\"/>\n      </g>\n     </g>\n    </g>\n    <g id=\"ytick_2\">\n     <g id=\"line2d_9\">\n      <g>\n       <use style=\"stroke:#000000;stroke-width:0.8;\" x=\"43.78125\" xlink:href=\"#m2f820e8fd8\" y=\"149.566146\"/>\n      </g>\n     </g>\n     <g id=\"text_11\">\n      <!-- 0.2 -->\n      <g transform=\"translate(20.878125 153.365365)scale(0.1 -0.1)\">\n       <use xlink:href=\"#DejaVuSans-48\"/>\n       <use x=\"63.623047\" xlink:href=\"#DejaVuSans-46\"/>\n       <use x=\"95.410156\" xlink:href=\"#DejaVuSans-50\"/>\n      </g>\n     </g>\n    </g>\n    <g id=\"ytick_3\">\n     <g id=\"line2d_10\">\n      <g>\n       <use style=\"stroke:#000000;stroke-width:0.8;\" x=\"43.78125\" xlink:href=\"#m2f820e8fd8\" y=\"104.393967\"/>\n      </g>\n     </g>\n     <g id=\"text_12\">\n      <!-- 0.4 -->\n      <defs>\n       <path d=\"M 37.796875 64.3125 \nL 12.890625 25.390625 \nL 37.796875 25.390625 \nz\nM 35.203125 72.90625 \nL 47.609375 72.90625 \nL 47.609375 25.390625 \nL 58.015625 25.390625 \nL 58.015625 17.1875 \nL 47.609375 17.1875 \nL 47.609375 0 \nL 37.796875 0 \nL 37.796875 17.1875 \nL 4.890625 17.1875 \nL 4.890625 26.703125 \nz\n\" id=\"DejaVuSans-52\"/>\n      </defs>\n      <g transform=\"translate(20.878125 108.193186)scale(0.1 -0.1)\">\n       <use xlink:href=\"#DejaVuSans-48\"/>\n       <use x=\"63.623047\" xlink:href=\"#DejaVuSans-46\"/>\n       <use x=\"95.410156\" xlink:href=\"#DejaVuSans-52\"/>\n      </g>\n     </g>\n    </g>\n    <g id=\"ytick_4\">\n     <g id=\"line2d_11\">\n      <g>\n       <use style=\"stroke:#000000;stroke-width:0.8;\" x=\"43.78125\" xlink:href=\"#m2f820e8fd8\" y=\"59.221788\"/>\n      </g>\n     </g>\n     <g id=\"text_13\">\n      <!-- 0.6 -->\n      <defs>\n       <path d=\"M 33.015625 40.375 \nQ 26.375 40.375 22.484375 35.828125 \nQ 18.609375 31.296875 18.609375 23.390625 \nQ 18.609375 15.53125 22.484375 10.953125 \nQ 26.375 6.390625 33.015625 6.390625 \nQ 39.65625 6.390625 43.53125 10.953125 \nQ 47.40625 15.53125 47.40625 23.390625 \nQ 47.40625 31.296875 43.53125 35.828125 \nQ 39.65625 40.375 33.015625 40.375 \nz\nM 52.59375 71.296875 \nL 52.59375 62.3125 \nQ 48.875 64.0625 45.09375 64.984375 \nQ 41.3125 65.921875 37.59375 65.921875 \nQ 27.828125 65.921875 22.671875 59.328125 \nQ 17.53125 52.734375 16.796875 39.40625 \nQ 19.671875 43.65625 24.015625 45.921875 \nQ 28.375 48.1875 33.59375 48.1875 \nQ 44.578125 48.1875 50.953125 41.515625 \nQ 57.328125 34.859375 57.328125 23.390625 \nQ 57.328125 12.15625 50.6875 5.359375 \nQ 44.046875 -1.421875 33.015625 -1.421875 \nQ 20.359375 -1.421875 13.671875 8.265625 \nQ 6.984375 17.96875 6.984375 36.375 \nQ 6.984375 53.65625 15.1875 63.9375 \nQ 23.390625 74.21875 37.203125 74.21875 \nQ 40.921875 74.21875 44.703125 73.484375 \nQ 48.484375 72.75 52.59375 71.296875 \nz\n\" id=\"DejaVuSans-54\"/>\n      </defs>\n      <g transform=\"translate(20.878125 63.021006)scale(0.1 -0.1)\">\n       <use xlink:href=\"#DejaVuSans-48\"/>\n       <use x=\"63.623047\" xlink:href=\"#DejaVuSans-46\"/>\n       <use x=\"95.410156\" xlink:href=\"#DejaVuSans-54\"/>\n      </g>\n     </g>\n    </g>\n    <g id=\"ytick_5\">\n     <g id=\"line2d_12\">\n      <g>\n       <use style=\"stroke:#000000;stroke-width:0.8;\" x=\"43.78125\" xlink:href=\"#m2f820e8fd8\" y=\"14.049608\"/>\n      </g>\n     </g>\n     <g id=\"text_14\">\n      <!-- 0.8 -->\n      <g transform=\"translate(20.878125 17.848827)scale(0.1 -0.1)\">\n       <use xlink:href=\"#DejaVuSans-48\"/>\n       <use x=\"63.623047\" xlink:href=\"#DejaVuSans-46\"/>\n       <use x=\"95.410156\" xlink:href=\"#DejaVuSans-56\"/>\n      </g>\n     </g>\n    </g>\n    <g id=\"text_15\">\n     <!-- Power? -->\n     <defs>\n      <path d=\"M 19.671875 64.796875 \nL 19.671875 37.40625 \nL 32.078125 37.40625 \nQ 38.96875 37.40625 42.71875 40.96875 \nQ 46.484375 44.53125 46.484375 51.125 \nQ 46.484375 57.671875 42.71875 61.234375 \nQ 38.96875 64.796875 32.078125 64.796875 \nz\nM 9.8125 72.90625 \nL 32.078125 72.90625 \nQ 44.34375 72.90625 50.609375 67.359375 \nQ 56.890625 61.8125 56.890625 51.125 \nQ 56.890625 40.328125 50.609375 34.8125 \nQ 44.34375 29.296875 32.078125 29.296875 \nL 19.671875 29.296875 \nL 19.671875 0 \nL 9.8125 0 \nz\n\" id=\"DejaVuSans-80\"/>\n      <path d=\"M 30.609375 48.390625 \nQ 23.390625 48.390625 19.1875 42.75 \nQ 14.984375 37.109375 14.984375 27.296875 \nQ 14.984375 17.484375 19.15625 11.84375 \nQ 23.34375 6.203125 30.609375 6.203125 \nQ 37.796875 6.203125 41.984375 11.859375 \nQ 46.1875 17.53125 46.1875 27.296875 \nQ 46.1875 37.015625 41.984375 42.703125 \nQ 37.796875 48.390625 30.609375 48.390625 \nz\nM 30.609375 56 \nQ 42.328125 56 49.015625 48.375 \nQ 55.71875 40.765625 55.71875 27.296875 \nQ 55.71875 13.875 49.015625 6.21875 \nQ 42.328125 -1.421875 30.609375 -1.421875 \nQ 18.84375 -1.421875 12.171875 6.21875 \nQ 5.515625 13.875 5.515625 27.296875 \nQ 5.515625 40.765625 12.171875 48.375 \nQ 18.84375 56 30.609375 56 \nz\n\" id=\"DejaVuSans-111\"/>\n      <path d=\"M 4.203125 54.6875 \nL 13.1875 54.6875 \nL 24.421875 12.015625 \nL 35.59375 54.6875 \nL 46.1875 54.6875 \nL 57.421875 12.015625 \nL 68.609375 54.6875 \nL 77.59375 54.6875 \nL 63.28125 0 \nL 52.6875 0 \nL 40.921875 44.828125 \nL 29.109375 0 \nL 18.5 0 \nz\n\" id=\"DejaVuSans-119\"/>\n      <path d=\"M 41.109375 46.296875 \nQ 39.59375 47.171875 37.8125 47.578125 \nQ 36.03125 48 33.890625 48 \nQ 26.265625 48 22.1875 43.046875 \nQ 18.109375 38.09375 18.109375 28.8125 \nL 18.109375 0 \nL 9.078125 0 \nL 9.078125 54.6875 \nL 18.109375 54.6875 \nL 18.109375 46.1875 \nQ 20.953125 51.171875 25.484375 53.578125 \nQ 30.03125 56 36.53125 56 \nQ 37.453125 56 38.578125 55.875 \nQ 39.703125 55.765625 41.0625 55.515625 \nz\n\" id=\"DejaVuSans-114\"/>\n      <path d=\"M 19.09375 12.40625 \nL 29 12.40625 \nL 29 0 \nL 19.09375 0 \nz\nM 28.71875 19.578125 \nL 19.390625 19.578125 \nL 19.390625 27.09375 \nQ 19.390625 32.03125 20.75 35.203125 \nQ 22.125 38.375 26.515625 42.578125 \nL 30.90625 46.921875 \nQ 33.6875 49.515625 34.9375 51.8125 \nQ 36.1875 54.109375 36.1875 56.5 \nQ 36.1875 60.84375 32.984375 63.53125 \nQ 29.78125 66.21875 24.515625 66.21875 \nQ 20.65625 66.21875 16.28125 64.5 \nQ 11.921875 62.796875 7.171875 59.515625 \nL 7.171875 68.703125 \nQ 11.765625 71.484375 16.46875 72.84375 \nQ 21.1875 74.21875 26.21875 74.21875 \nQ 35.203125 74.21875 40.640625 69.484375 \nQ 46.09375 64.75 46.09375 56.984375 \nQ 46.09375 53.265625 44.328125 49.921875 \nQ 42.578125 46.578125 38.1875 42.390625 \nL 33.890625 38.1875 \nQ 31.59375 35.890625 30.640625 34.59375 \nQ 29.6875 33.296875 29.296875 32.078125 \nQ 29 31.0625 28.859375 29.59375 \nQ 28.71875 28.125 28.71875 25.59375 \nz\n\" id=\"DejaVuSans-63\"/>\n     </defs>\n     <g transform=\"translate(14.798438 137.366875)rotate(-90)scale(0.1 -0.1)\">\n      <use xlink:href=\"#DejaVuSans-80\"/>\n      <use x=\"60.255859\" xlink:href=\"#DejaVuSans-111\"/>\n      <use x=\"121.4375\" xlink:href=\"#DejaVuSans-119\"/>\n      <use x=\"203.224609\" xlink:href=\"#DejaVuSans-101\"/>\n      <use x=\"264.748047\" xlink:href=\"#DejaVuSans-114\"/>\n      <use x=\"305.861328\" xlink:href=\"#DejaVuSans-63\"/>\n     </g>\n    </g>\n   </g>\n   <g id=\"line2d_13\">\n    <path clip-path=\"url(#pb655daefe7)\" d=\"M 58.999432 199.018989 \nL 59.104488 198.087217 \nL 59.275709 188.742813 \nL 59.687689 165.901392 \nL 59.795256 164.515749 \nL 60.10269 157.214414 \nL 60.305334 159.022619 \nL 60.412454 158.580636 \nL 60.896362 125.169944 \nL 61.030765 124.722729 \nL 61.206349 119.418105 \nL 61.308028 121.05599 \nL 61.827355 140.460124 \nL 61.926122 139.956151 \nL 62.544943 117.436023 \nL 62.926658 129.944071 \nL 63.061979 129.480853 \nL 63.338596 121.707289 \nL 63.47339 120.979 \nL 63.545994 118.672476 \nL 63.64504 118.745609 \nL 63.855744 120.834561 \nL 63.954615 120.326311 \nL 64.05846 120.708848 \nL 64.476623 133.561007 \nL 64.7812 139.956608 \nL 65.364754 165.586651 \nL 65.504017 165.537248 \nL 65.576093 163.957329 \nL 65.675178 164.608885 \nL 65.987773 170.887041 \nL 66.08541 171.628338 \nL 66.70893 191.321149 \nL 66.91441 189.086381 \nL 66.992107 187.69734 \nL 67.121994 187.449147 \nL 67.299021 181.024304 \nL 67.535435 176.478615 \nL 67.607519 177.72398 \nL 67.808616 183.709784 \nL 68.021014 178.813479 \nL 68.119331 178.931178 \nL 68.222783 178.070591 \nL 68.635607 160.332472 \nL 68.73793 159.885883 \nL 69.01921 166.531521 \nL 69.151865 166.799442 \nL 69.422678 161.506006 \nL 69.564825 160.764765 \nL 69.940643 154.437148 \nL 70.253434 148.88637 \nL 70.361569 148.293709 \nL 70.562323 152.022264 \nL 70.666049 151.094933 \nL 71.006653 136.074381 \nL 71.048944 132.654651 \nL 71.1818 130.969398 \nL 71.284601 132.266325 \nL 71.457042 136.178518 \nL 71.595119 135.83199 \nL 71.870031 140.902348 \nL 71.977656 140.761543 \nL 72.282832 146.120733 \nL 72.489346 151.225367 \nL 72.694957 149.473293 \nL 73.315037 163.418648 \nL 73.624864 151.111517 \nL 73.801818 152.049005 \nL 74.208956 144.908768 \nL 74.421288 148.541723 \nL 74.517299 147.81257 \nL 74.622212 148.424116 \nL 74.828801 151.318921 \nL 74.931939 150.88472 \nL 75.109061 151.729108 \nL 75.344932 148.013356 \nL 75.460283 144.069602 \nL 75.831829 155.256447 \nL 75.929558 155.49416 \nL 76.067182 156.355149 \nL 76.3416 164.193247 \nL 76.450964 161.8569 \nL 76.75549 151.151928 \nL 77.138021 145.528133 \nL 77.2718 146.455158 \nL 77.684565 156.59894 \nL 77.784729 156.839224 \nL 77.959628 153.428557 \nL 78.09755 153.033232 \nL 78.370756 146.280232 \nL 78.480907 144.736764 \nL 78.680995 146.26379 \nL 78.785434 145.675906 \nL 79.405422 110.602423 \nL 79.580618 97.428872 \nL 79.714261 96.809144 \nL 79.817105 96.988369 \nL 79.988233 98.338766 \nL 80.127566 97.135564 \nL 80.299444 94.945385 \nL 80.402588 95.156274 \nL 80.710912 85.785139 \nL 80.815098 83.304028 \nL 80.918068 83.503469 \nL 81.43462 117.047737 \nL 81.848316 132.838336 \nL 82.018448 126.680386 \nL 82.156739 126.530862 \nL 82.23175 127.519395 \nL 82.327876 127.321637 \nL 82.638879 125.037718 \nL 83.050759 132.517557 \nL 83.155902 129.656209 \nL 83.36154 119.56811 \nL 83.465667 120.144391 \nL 83.641539 125.449199 \nL 83.87762 130.077665 \nL 83.948903 127.02336 \nL 84.186559 131.644066 \nL 84.357394 135.230834 \nL 84.460516 136.530114 \nL 84.876458 149.571281 \nL 84.980821 150.418866 \nL 85.081522 152.147453 \nL 85.288574 150.665707 \nL 85.804574 166.961577 \nL 85.908071 166.543622 \nL 86.079093 168.658703 \nL 86.291152 162.185576 \nL 86.492044 157.422757 \nL 86.700467 161.648478 \nL 87.011125 154.907929 \nL 87.421223 160.786925 \nL 87.524556 158.571582 \nL 87.701951 148.302352 \nL 88.247019 141.547876 \nL 88.320716 141.865618 \nL 88.419379 144.318018 \nL 88.521324 143.80498 \nL 88.734399 130.929256 \nL 88.935706 124.443926 \nL 89.245225 128.11791 \nL 89.554607 134.449481 \nL 89.657035 134.274503 \nL 89.864551 136.601849 \nL 89.967758 135.593441 \nL 90.277361 127.472266 \nL 90.351257 126.93373 \nL 90.55088 127.674244 \nL 90.762088 133.683837 \nL 90.966354 142.369504 \nL 91.275985 151.805981 \nL 91.378081 150.588292 \nL 91.688329 144.045416 \nL 91.894159 144.839204 \nL 92.071316 148.844665 \nL 92.307538 153.184402 \nL 92.380867 154.125721 \nL 92.891603 170.106569 \nL 92.995345 170.078951 \nL 93.104046 169.342533 \nL 93.408903 164.932801 \nL 93.932276 177.124481 \nL 94.101315 177.423857 \nL 94.337432 179.867498 \nL 94.513867 186.777266 \nL 94.719003 185.634447 \nL 94.824588 185.987827 \nL 95.025361 188.348846 \nL 95.231908 190.3292 \nL 95.334923 188.807322 \nL 95.438725 189.082135 \nL 95.541186 188.569259 \nL 96.058164 173.341218 \nL 96.234486 177.485007 \nL 96.367745 175.072647 \nL 96.642395 164.094805 \nL 97.264191 140.066348 \nL 97.571111 145.994637 \nL 97.674365 145.653206 \nL 97.851673 142.126646 \nL 97.984203 143.053834 \nL 98.161334 147.859784 \nL 98.264613 147.313066 \nL 98.398378 148.63877 \nL 99.085219 167.763683 \nL 99.192896 168.295421 \nL 99.395113 170.549337 \nL 99.601577 167.589928 \nL 100.117869 178.4492 \nL 100.21773 178.17552 \nL 100.602075 172.81134 \nL 100.84036 175.631237 \nL 100.914022 174.521823 \nL 101.321371 185.921106 \nL 101.459308 186.313713 \nL 101.527169 185.506773 \nL 101.631393 185.526572 \nL 101.732733 185.147189 \nL 101.938379 183.67298 \nL 102.148127 182.416179 \nL 102.249586 183.242632 \nL 102.326642 182.145321 \nL 102.56048 183.221202 \nL 102.732325 185.058091 \nL 103.145341 177.256738 \nL 103.351876 184.682587 \nL 103.558494 188.580606 \nL 103.86835 185.450211 \nL 104.073911 182.301057 \nL 104.281881 182.683193 \nL 104.487132 176.50243 \nL 104.900454 173.054627 \nL 105.072043 174.533805 \nL 105.380663 177.507924 \nL 105.693548 171.395049 \nL 105.897491 172.037707 \nL 106.102483 168.14979 \nL 106.207902 169.180681 \nL 106.310677 168.588206 \nL 106.516391 162.014694 \nL 106.694544 154.930375 \nL 107.313478 129.430062 \nL 107.927942 80.482632 \nL 108.414683 63.382773 \nL 108.546636 62.725395 \nL 108.649128 65.304251 \nL 109.034232 82.472693 \nL 109.132158 81.916271 \nL 109.234189 82.114579 \nL 109.443312 91.442498 \nL 110.163864 132.164556 \nL 110.754659 162.986098 \nL 110.989891 158.804059 \nL 111.163757 151.296541 \nL 111.476627 155.977677 \nL 111.574749 155.457567 \nL 111.785783 149.194729 \nL 112.711255 126.592715 \nL 112.82666 125.723183 \nL 113.019857 129.200012 \nL 113.094218 130.161873 \nL 113.403347 137.782967 \nL 114.017361 143.240124 \nL 114.121528 143.113393 \nL 114.32737 146.302637 \nL 114.91471 137.489736 \nL 115.049355 138.600649 \nL 115.224851 135.508835 \nL 115.634452 123.355475 \nL 115.845473 120.334002 \nL 116.35672 135.085434 \nL 116.872421 151.809986 \nL 117.257099 138.25172 \nL 117.355292 140.233806 \nL 117.49116 139.772338 \nL 117.663664 135.409809 \nL 117.768272 136.042202 \nL 117.876401 135.704278 \nL 117.972899 134.899588 \nL 118.07717 135.384002 \nL 118.801134 127.06927 \nL 118.985134 127.830417 \nL 119.28635 136.388187 \nL 119.904994 157.368913 \nL 120.107615 158.426297 \nL 120.210143 157.181035 \nL 120.417114 160.905105 \nL 120.520985 160.110813 \nL 120.930623 150.694556 \nL 121.139833 151.946261 \nL 121.242256 151.967073 \nL 121.415197 156.780703 \nL 121.552844 156.408353 \nL 121.724935 151.664621 \nL 121.936175 151.734794 \nL 122.034487 151.221837 \nL 122.137599 152.311551 \nL 122.343006 156.361164 \nL 122.445743 154.351356 \nL 122.551178 155.039417 \nL 122.755487 159.205777 \nL 122.961471 159.686483 \nL 123.036958 159.232171 \nL 123.204108 160.33582 \nL 123.347111 164.691344 \nL 123.583911 159.667414 \nL 123.656851 160.0904 \nL 123.754744 161.593875 \nL 123.966222 159.438782 \nL 124.167589 160.767668 \nL 124.270497 160.653063 \nL 124.477489 159.268358 \nL 124.58072 157.555709 \nL 125.067164 131.607442 \nL 125.30363 133.019346 \nL 125.613333 127.173675 \nL 125.784448 128.738891 \nL 126.097767 135.098892 \nL 126.196581 133.470109 \nL 126.301565 133.502737 \nL 126.406131 133.330517 \nL 126.507194 132.676503 \nL 126.612005 132.943589 \nL 126.714201 135.617628 \nL 127.407214 176.039819 \nL 127.504955 176.775685 \nL 127.643085 176.481329 \nL 127.716821 175.637703 \nL 128.227644 162.90558 \nL 128.437649 166.851643 \nL 128.639451 167.454434 \nL 128.846879 167.265066 \nL 129.053586 162.987341 \nL 129.12741 163.727765 \nL 129.435286 169.399815 \nL 129.744754 165.244311 \nL 129.846705 166.234795 \nL 129.947869 165.867623 \nL 130.25722 153.125865 \nL 130.469284 147.602845 \nL 130.672423 142.95674 \nL 130.775277 144.096727 \nL 130.875774 143.469499 \nL 131.082889 140.859645 \nL 131.157059 142.030514 \nL 131.28972 139.521827 \nL 131.775451 116.718577 \nL 131.876613 117.435812 \nL 132.287031 124.158649 \nL 132.59732 129.22038 \nL 132.906548 137.730953 \nL 133.010362 137.914317 \nL 133.218287 139.148335 \nL 133.597332 133.146997 \nL 133.733364 133.835807 \nL 134.019715 141.879934 \nL 134.116839 141.354559 \nL 134.317474 137.564976 \nL 134.420305 137.19247 \nL 134.529234 138.5816 \nL 134.730243 144.107753 \nL 134.83416 142.020136 \nL 135.038235 134.992988 \nL 135.143558 133.845193 \nL 135.453163 136.511749 \nL 135.762671 143.911656 \nL 135.843585 143.161698 \nL 135.939603 143.657449 \nL 136.037786 146.393548 \nL 136.249062 143.827599 \nL 136.559231 153.442123 \nL 136.657121 152.510059 \nL 136.868555 146.09166 \nL 136.966761 146.594867 \nL 137.173391 145.081395 \nL 137.246618 147.478254 \nL 137.37944 147.681203 \nL 137.514442 147.659227 \nL 137.660302 150.99582 \nL 137.866777 149.271293 \nL 138.066552 155.454046 \nL 138.205476 154.461502 \nL 138.377397 151.865963 \nL 138.480551 151.75903 \nL 138.589096 150.337666 \nL 138.687162 150.553901 \nL 138.995078 153.972071 \nL 139.100094 151.923562 \nL 139.203582 153.666883 \nL 139.407869 161.01841 \nL 139.5863 162.878909 \nL 139.690229 162.009386 \nL 139.923989 165.700419 \nL 140.093532 161.785471 \nL 140.308122 157.235091 \nL 140.717224 165.903781 \nL 140.820178 166.033814 \nL 141.129978 174.119225 \nL 141.307039 184.11092 \nL 141.439548 182.747031 \nL 141.72018 174.376969 \nL 141.853026 173.143562 \nL 142.030259 168.291485 \nL 142.127556 170.089893 \nL 142.540795 182.939949 \nL 142.648484 184.091348 \nL 142.849913 179.252086 \nL 143.468112 162.73791 \nL 143.573481 162.731596 \nL 144.059612 177.209034 \nL 144.157598 177.073683 \nL 144.29526 175.646595 \nL 144.467229 168.685879 \nL 144.775731 161.806909 \nL 144.880529 162.948263 \nL 145.086814 167.718036 \nL 145.292707 165.858686 \nL 145.394371 165.986603 \nL 145.602767 164.103721 \nL 146.187701 145.776163 \nL 146.325935 147.282225 \nL 146.497478 152.077912 \nL 146.600527 151.908853 \nL 146.708865 151.754459 \nL 146.807077 152.614022 \nL 147.013819 156.098338 \nL 147.117627 155.455443 \nL 148.045868 177.791974 \nL 148.118958 176.914339 \nL 148.218157 176.967052 \nL 148.527118 184.566425 \nL 148.738886 182.227677 \nL 148.939033 184.056163 \nL 149.249655 178.684435 \nL 149.353765 179.827367 \nL 149.455352 179.439979 \nL 149.559572 178.44364 \nL 149.972446 168.763626 \nL 150.075738 169.480258 \nL 150.385572 173.488208 \nL 150.555757 170.241216 \nL 150.768936 168.528531 \nL 151.073187 172.409174 \nL 151.383043 177.473333 \nL 151.487007 176.994133 \nL 151.693702 173.004733 \nL 151.795939 173.458334 \nL 151.869801 179.867227 \nL 152.002374 181.455638 \nL 152.277963 178.435033 \nL 152.492386 181.121613 \nL 152.690626 179.973144 \nL 153.00034 186.880939 \nL 153.212256 185.236779 \nL 153.619099 193.677062 \nL 153.827113 197.572367 \nL 153.908613 196.130007 \nL 154.135395 188.332643 \nL 154.307997 192.070288 \nL 154.445333 192.619281 \nL 154.62205 190.846076 \nL 154.828517 188.620354 \nL 155.030231 184.952546 \nL 155.241436 183.424741 \nL 155.340212 182.95921 \nL 155.928182 164.577334 \nL 156.166864 163.155074 \nL 156.236871 163.939606 \nL 156.477015 159.893922 \nL 156.549365 161.027428 \nL 156.857964 156.810546 \nL 157.472779 131.460095 \nL 157.577963 130.831898 \nL 157.782602 135.643703 \nL 157.958763 132.468097 \nL 158.090613 133.135721 \nL 158.195638 135.51639 \nL 158.505505 131.612957 \nL 158.577548 132.750873 \nL 158.776389 131.507425 \nL 158.917603 132.405484 \nL 159.605579 163.000695 \nL 159.709142 162.457435 \nL 159.812275 163.340921 \nL 160.12216 168.997864 \nL 160.402591 171.388946 \nL 160.710816 177.37494 \nL 160.948287 176.895659 \nL 161.021074 177.019446 \nL 161.33167 179.021355 \nL 161.429664 178.991505 \nL 161.638032 175.75059 \nL 161.73746 177.047809 \nL 161.945127 180.833375 \nL 162.019316 177.913054 \nL 162.152368 177.097045 \nL 162.25548 178.231936 \nL 162.355009 177.565081 \nL 162.565478 173.835181 \nL 162.978376 170.238694 \nL 163.051624 170.593842 \nL 163.253126 169.538499 \nL 163.459907 168.219439 \nL 163.769418 174.192076 \nL 163.872215 173.851912 \nL 164.092306 170.225058 \nL 164.182558 166.930125 \nL 164.285637 167.076698 \nL 164.386948 169.173058 \nL 164.698714 183.754688 \nL 164.772418 184.401408 \nL 165.039972 181.743226 \nL 165.108924 182.123138 \nL 165.391482 177.222346 \nL 165.489903 178.133775 \nL 165.591759 176.293333 \nL 165.798323 164.891597 \nL 165.90073 164.03958 \nL 166.317001 168.708602 \nL 166.4171 168.418053 \nL 166.625333 160.147567 \nL 166.899729 141.955409 \nL 167.038696 141.618333 \nL 167.313523 145.274337 \nL 167.42118 145.079008 \nL 167.622791 141.581112 \nL 167.93131 143.247248 \nL 168.035526 140.892744 \nL 168.522657 118.384043 \nL 168.65556 116.068107 \nL 168.759145 116.22326 \nL 169.140568 133.571976 \nL 169.451513 128.881971 \nL 169.862306 134.681514 \nL 169.96254 135.682611 \nL 170.06535 135.261289 \nL 170.169296 137.205416 \nL 170.787673 163.14633 \nL 170.86235 164.799572 \nL 170.960434 164.405069 \nL 171.17502 160.312606 \nL 171.481864 166.432684 \nL 171.581326 165.246212 \nL 171.786107 161.193264 \nL 171.892699 160.240825 \nL 172.09729 156.859259 \nL 172.199164 158.139549 \nL 172.508343 165.772709 \nL 172.990575 157.258231 \nL 173.128421 158.821597 \nL 173.712542 144.450215 \nL 173.817769 143.624358 \nL 174.331917 150.813729 \nL 174.612304 143.7599 \nL 174.745059 144.404924 \nL 175.334985 150.922308 \nL 175.538916 153.809059 \nL 175.644958 153.352211 \nL 175.74153 152.381293 \nL 176.258112 155.890627 \nL 176.878474 149.0156 \nL 177.055401 150.215904 \nL 177.188323 150.268892 \nL 177.463153 145.958814 \nL 177.772557 144.843858 \nL 177.984109 147.951549 \nL 178.082443 147.775079 \nL 178.390437 143.327535 \nL 178.672297 134.651568 \nL 178.804577 135.436607 \nL 179.63004 148.631285 \nL 179.704035 149.129064 \nL 180.014633 156.365282 \nL 180.144531 157.046642 \nL 180.318455 162.13871 \nL 180.42218 160.977374 \nL 180.627687 164.911872 \nL 180.938139 172.604945 \nL 181.11251 169.188769 \nL 181.763115 140.641653 \nL 182.043352 121.602777 \nL 182.245285 118.850575 \nL 182.452174 111.454569 \nL 182.863342 120.627706 \nL 182.969609 120.132399 \nL 183.181229 117.141602 \nL 183.277969 117.632703 \nL 183.862659 139.079701 \nL 184.074369 142.713092 \nL 184.309724 153.918041 \nL 184.585349 179.156373 \nL 184.689165 179.921809 \nL 184.762353 179.337403 \nL 185.411359 166.238753 \nL 185.581299 156.118248 \nL 185.794935 152.804332 \nL 185.995833 149.037643 \nL 186.103064 149.723181 \nL 186.217818 148.938306 \nL 187.02811 104.803581 \nL 187.205217 102.165296 \nL 187.444038 109.872316 \nL 187.613332 125.721735 \nL 187.750885 126.052408 \nL 187.82468 123.662197 \nL 187.921559 123.778392 \nL 188.132756 128.397039 \nL 188.439449 136.014595 \nL 188.543861 137.374551 \nL 188.644888 135.893877 \nL 188.748675 136.605453 \nL 189.367645 147.520408 \nL 189.471041 147.389248 \nL 189.54513 147.568713 \nL 189.780424 145.952604 \nL 189.952473 147.495236 \nL 190.163499 142.314156 \nL 190.363916 136.608907 \nL 190.778858 148.591925 \nL 190.882074 146.026156 \nL 191.265045 127.448056 \nL 191.500953 120.564416 \nL 191.810542 94.92483 \nL 191.981808 88.435251 \nL 192.2881 83.771315 \nL 192.395598 84.069047 \nL 192.498791 84.056458 \nL 192.911698 78.271306 \nL 193.295391 85.615403 \nL 193.606999 77.624197 \nL 194.354108 94.302 \nL 194.641157 112.369855 \nL 195.250409 128.07682 \nL 195.5608 146.644757 \nL 195.872274 176.977879 \nL 196.047685 192.082689 \nL 196.559256 201.336973 \nL 196.667508 200.408894 \nL 196.868367 205.281935 \nL 196.971919 205.039777 \nL 197.073174 204.783543 \nL 197.177933 203.91741 \nL 197.280762 204.096745 \nL 197.487919 215.914661 \nL 197.59003 218.256364 \nL 197.901072 214.839956 \nL 198.077732 213.628296 \nL 198.175613 211.111565 \nL 198.310267 212.295762 \nL 198.485674 217.104322 \nL 198.795269 212.780922 \nL 199.103246 199.471768 \nL 199.38519 194.440515 \nL 199.799472 174.707237 \nL 199.930605 174.076191 \nL 200.108092 175.878889 \nL 200.343818 176.679074 \nL 200.444008 176.328657 \nL 200.618636 173.656701 \nL 200.92803 178.552162 \nL 201.134447 179.348138 \nL 201.341179 185.20014 \nL 201.415067 185.076144 \nL 201.546761 184.780457 \nL 201.652382 186.147646 \nL 201.828592 192.488232 \nL 202.060283 194.816593 \nL 202.447616 180.562825 \nL 202.64856 179.024516 \nL 202.755429 181.309597 \nL 202.855095 180.271226 \nL 203.076703 176.919743 \nL 203.267852 179.66777 \nL 203.471788 177.398558 \nL 203.783408 186.695872 \nL 203.858186 184.996193 \nL 203.990663 185.331957 \nL 204.477118 205.748078 \nL 204.682257 208.227137 \nL 204.787204 207.38889 \nL 204.988424 203.557546 \nL 205.091727 202.434541 \nL 205.194192 202.479458 \nL 205.60666 214.0116 \nL 205.710576 215.333537 \nL 206.123584 209.659 \nL 206.504909 194.706764 \nL 206.707042 191.18525 \nL 206.913182 186.364095 \nL 207.121764 184.991743 \nL 207.326233 189.828575 \nL 207.533669 186.337332 \nL 207.637622 186.823495 \nL 207.74009 183.889378 \nL 208.050833 169.052675 \nL 208.153776 168.877854 \nL 208.576746 161.423104 \nL 208.633912 160.98372 \nL 208.944932 155.905971 \nL 209.151556 152.857885 \nL 209.358083 153.895067 \nL 209.462151 152.410711 \nL 209.770786 136.868994 \nL 209.948043 131.120891 \nL 210.184404 132.084657 \nL 210.257286 131.75835 \nL 210.559086 128.155517 \nL 210.665374 127.18623 \nL 210.764102 125.072467 \nL 210.894588 127.069119 \nL 211.182298 138.267812 \nL 211.287943 138.454756 \nL 211.595039 132.223222 \nL 211.904318 142.527205 \nL 212.110635 148.494975 \nL 212.212789 149.068476 \nL 212.287779 148.998135 \nL 212.385871 148.530266 \nL 212.522527 151.402168 \nL 212.906765 170.398064 \nL 213.00775 171.161757 \nL 213.211479 167.526807 \nL 213.320175 167.453205 \nL 213.417875 166.984903 \nL 214.007972 145.72531 \nL 214.140429 144.168477 \nL 214.317487 145.307743 \nL 214.41362 142.918062 \nL 214.555488 136.557713 \nL 214.727105 119.659367 \nL 214.935708 114.944251 \nL 215.137716 118.111054 \nL 215.349822 122.815201 \nL 215.55106 118.676616 \nL 215.964498 132.142951 \nL 216.037581 131.963614 \nL 216.170402 132.218878 \nL 216.584246 138.671145 \nL 216.858544 166.063886 \nL 217.16828 170.630477 \nL 217.475798 164.275962 \nL 217.785865 173.457244 \nL 217.890722 173.347099 \nL 217.995507 174.237124 \nL 218.20062 183.136304 \nL 218.303703 182.350278 \nL 218.377663 180.648041 \nL 218.575903 179.948543 \nL 218.687091 178.071333 \nL 218.791004 176.918617 \nL 219.301237 148.846198 \nL 219.609214 143.266617 \nL 219.817655 140.332486 \nL 219.920405 139.949386 \nL 220.0256 140.279687 \nL 220.100479 142.059028 \nL 220.230031 140.982745 \nL 220.407227 136.614573 \nL 220.717477 143.127523 \nL 220.918488 146.471122 \nL 221.054597 148.713334 \nL 221.228152 144.179863 \nL 221.331523 141.814215 \nL 221.549791 142.632901 \nL 221.744811 137.525619 \nL 221.847925 137.379066 \nL 222.362902 125.320786 \nL 222.434966 126.262342 \nL 222.540729 129.784549 \nL 222.673026 129.916058 \nL 222.773677 129.557787 \nL 222.948169 132.374433 \nL 223.371475 141.785469 \nL 223.980766 164.126224 \nL 224.393518 179.420842 \nL 224.49379 178.414753 \nL 224.807337 169.343681 \nL 224.977859 167.51418 \nL 225.190447 163.614238 \nL 225.288568 164.463185 \nL 225.597232 169.434558 \nL 225.701257 170.405888 \nL 225.909226 173.062074 \nL 226.010448 174.431698 \nL 226.11377 174.062826 \nL 226.50536 164.937715 \nL 226.60052 165.194548 \nL 226.909507 174.470847 \nL 227.007001 177.299567 \nL 227.147063 176.975574 \nL 227.220333 177.494693 \nL 227.421412 182.024811 \nL 227.528561 182.584135 \nL 227.627546 182.495104 \nL 227.834945 177.963331 \nL 227.938153 175.700776 \nL 228.038635 176.646646 \nL 228.144041 175.861269 \nL 228.349615 177.735989 \nL 228.763463 187.377267 \nL 228.866528 186.296675 \nL 229.038371 176.239568 \nL 229.210123 174.598316 \nL 229.346651 180.780681 \nL 229.657681 172.175009 \nL 230.483404 132.496312 \nL 230.970114 117.913502 \nL 231.068571 120.021648 \nL 231.206958 121.92504 \nL 231.279404 120.904964 \nL 231.589114 110.595186 \nL 231.689647 111.108065 \nL 231.791091 113.283727 \nL 231.99962 127.068301 \nL 232.306262 146.939066 \nL 232.427788 145.28603 \nL 232.690681 127.746182 \nL 232.821869 126.594335 \nL 232.927857 126.766902 \nL 233.097983 130.287121 \nL 233.236156 130.507768 \nL 233.309968 131.348818 \nL 233.406445 131.202353 \nL 233.720179 125.355453 \nL 233.855662 126.166563 \nL 234.032394 134.503 \nL 234.13054 134.11827 \nL 234.33721 128.576312 \nL 234.440171 132.120522 \nL 234.852909 168.8021 \nL 234.955543 170.834954 \nL 235.128134 179.073225 \nL 235.265876 181.6101 \nL 235.438023 179.620898 \nL 235.539998 178.586653 \nL 235.752402 174.755661 \nL 235.850597 174.948041 \nL 236.062527 168.071765 \nL 236.263511 164.831044 \nL 236.468639 167.261271 \nL 236.881581 161.553565 \nL 237.295333 150.962095 \nL 237.569682 159.181913 \nL 237.680594 162.163447 \nL 238.091192 184.168228 \nL 238.190762 185.338894 \nL 238.397548 182.535148 \nL 238.603509 187.087217 \nL 238.705507 186.068785 \nL 239.016638 176.540764 \nL 239.193162 178.048494 \nL 239.400086 180.658899 \nL 239.502918 179.280864 \nL 239.599591 179.45567 \nL 239.709913 181.727085 \nL 239.810482 180.985495 \nL 240.323726 166.003433 \nL 240.529999 166.922205 \nL 240.633226 166.934873 \nL 240.810561 164.031051 \nL 240.941247 164.232469 \nL 241.220737 176.448413 \nL 241.356418 176.583203 \nL 242.149979 156.191655 \nL 242.388515 157.75535 \nL 242.560115 156.872293 \nL 242.661931 156.722577 \nL 242.766917 155.972435 \nL 242.840354 157.276168 \nL 243.076907 167.128072 \nL 243.149205 166.545307 \nL 243.385745 162.392379 \nL 243.563048 163.990321 \nL 243.661004 163.536145 \nL 243.798655 166.371448 \nL 243.96927 171.917407 \nL 244.073956 172.497331 \nL 244.280338 175.679078 \nL 244.588513 169.462919 \nL 244.693628 169.880811 \nL 245.002871 169.42369 \nL 245.416282 156.673557 \nL 245.689562 153.776187 \nL 246.723349 180.326281 \nL 246.826821 179.244579 \nL 247.241534 169.109129 \nL 247.313655 169.385603 \nL 247.550662 170.268316 \nL 247.860083 179.065843 \nL 247.959112 177.811622 \nL 248.241583 166.919276 \nL 248.339912 165.166223 \nL 248.753292 149.221347 \nL 248.856359 150.220862 \nL 249.342895 173.329185 \nL 249.581015 174.120797 \nL 249.651866 174.783986 \nL 249.750868 174.383388 \nL 249.962741 170.697944 \nL 250.163854 175.429928 \nL 250.36918 186.815786 \nL 250.57682 187.704964 \nL 250.886689 201.722152 \nL 250.989733 201.215161 \nL 251.373184 190.092721 \nL 251.505726 188.107575 \nL 251.608901 188.35785 \nL 251.682684 187.602371 \nL 251.920495 188.77061 \nL 251.991241 188.203563 \nL 252.302165 181.420454 \nL 252.50346 170.807353 \nL 252.715054 168.449714 \nL 253.404291 143.310133 \nL 253.63916 137.180222 \nL 254.022283 123.306935 \nL 254.120846 123.308099 \nL 254.223932 123.651545 \nL 254.432192 120.186242 \nL 254.636614 121.952778 \nL 254.745058 121.014373 \nL 254.839181 121.234998 \nL 255.050416 124.662612 \nL 255.151571 124.141596 \nL 255.256495 124.31959 \nL 255.360937 124.985058 \nL 255.462369 124.86453 \nL 255.565713 127.370152 \nL 255.840546 143.971639 \nL 255.978876 146.896351 \nL 256.150822 155.690234 \nL 256.254113 155.503964 \nL 256.560045 153.216844 \nL 256.666834 153.171137 \nL 256.775052 154.908094 \nL 257.079567 166.442338 \nL 257.182198 165.768891 \nL 257.284549 166.622459 \nL 257.411073 168.826832 \nL 257.46163 168.435133 \nL 257.595839 166.732111 \nL 258.008209 145.045008 \nL 258.283965 113.291288 \nL 258.421857 112.231404 \nL 258.593131 115.161755 \nL 258.805111 118.230782 \nL 258.902675 117.330955 \nL 259.212309 112.370795 \nL 259.314112 113.807516 \nL 259.419993 116.88967 \nL 259.625994 111.71371 \nL 259.728743 110.773339 \nL 259.904185 117.675363 \nL 260.039273 116.529129 \nL 260.112203 118.902161 \nL 260.448813 147.869561 \nL 260.726914 151.621799 \nL 260.933381 150.503828 \nL 261.036226 150.668479 \nL 261.139485 148.650022 \nL 261.523146 130.899524 \nL 261.655744 131.607318 \nL 262.245896 149.074548 \nL 262.341926 147.261982 \nL 262.554954 144.647467 \nL 262.962877 128.505552 \nL 263.066483 129.214763 \nL 263.27281 133.719536 \nL 263.685771 148.589434 \nL 263.966372 153.921206 \nL 264.097751 152.272334 \nL 264.275382 146.908648 \nL 264.681101 160.694988 \nL 264.895068 174.291812 \nL 264.991723 173.78156 \nL 265.301143 155.839172 \nL 265.508991 153.707096 \nL 265.918898 148.05429 \nL 266.16269 147.414888 \nL 266.54182 136.682155 \nL 266.816744 121.555816 \nL 267.023261 119.796326 \nL 267.433965 141.950004 \nL 267.538315 141.670874 \nL 267.744325 140.706291 \nL 267.950555 141.259944 \nL 268.26197 147.355154 \nL 268.432775 152.794344 \nL 268.57143 152.322145 \nL 268.743146 161.497386 \nL 268.954789 178.273075 \nL 269.053223 178.804253 \nL 269.191601 178.810125 \nL 269.361146 177.168606 \nL 270.189378 196.141628 \nL 270.291831 196.368441 \nL 270.462463 193.297584 \nL 270.675209 196.843854 \nL 270.77291 198.648928 \nL 270.875084 197.257173 \nL 271.082745 188.864002 \nL 271.185783 189.443709 \nL 271.289475 189.087816 \nL 271.495896 183.011434 \nL 271.804533 167.018557 \nL 272.22904 153.3466 \nL 272.705845 145.588155 \nL 273.112468 124.781982 \nL 273.629945 115.486748 \nL 273.747758 114.705409 \nL 273.9397 119.742377 \nL 274.11616 123.648466 \nL 274.247221 123.025555 \nL 274.363482 123.667914 \nL 274.661617 131.105445 \nL 274.73489 130.459113 \nL 274.832461 132.039772 \nL 275.246029 149.643548 \nL 275.658896 158.962547 \nL 275.969146 169.899466 \nL 276.072151 169.286458 \nL 276.14554 167.412199 \nL 276.278194 168.563964 \nL 276.552133 174.689885 \nL 276.691498 173.0158 \nL 276.865027 169.465032 \nL 276.966703 169.781997 \nL 277.100345 171.045719 \nL 277.176215 170.749763 \nL 277.274895 170.340907 \nL 277.585011 176.632933 \nL 277.792736 174.478218 \nL 277.998665 170.600879 \nL 278.308192 163.239798 \nL 278.411833 163.022793 \nL 278.585932 156.679466 \nL 278.721166 154.35172 \nL 278.794919 154.956125 \nL 278.899049 157.364765 \nL 278.996401 157.291068 \nL 279.105097 155.024278 \nL 279.408715 140.042916 \nL 279.516692 139.772743 \nL 279.822658 144.725267 \nL 280.132089 150.502859 \nL 280.338145 147.920715 \nL 280.442008 148.1083 \nL 280.515819 149.10493 \nL 280.825675 165.884706 \nL 280.928331 164.96766 \nL 281.026436 161.723225 \nL 281.161407 161.299364 \nL 281.336127 167.896293 \nL 281.58141 176.78051 \nL 281.645904 174.944139 \nL 282.058258 144.835842 \nL 282.162783 146.113371 \nL 282.545568 160.020679 \nL 282.647143 159.538617 \nL 282.781613 156.090075 \nL 282.958175 142.725396 \nL 283.052542 142.715555 \nL 283.365078 148.355414 \nL 283.777829 154.742521 \nL 284.266151 177.66954 \nL 284.536044 174.142281 \nL 284.609908 176.005748 \nL 284.678776 175.805698 \nL 284.913472 173.399341 \nL 285.086508 179.492066 \nL 285.223653 178.260563 \nL 285.498883 171.603389 \nL 285.705663 165.779926 \nL 286.221881 137.058957 \nL 286.709116 99.086052 \nL 287.564354 69.756007 \nL 287.636636 70.142648 \nL 287.735605 69.976923 \nL 287.839167 72.447313 \nL 288.664523 115.961889 \nL 288.870159 137.854504 \nL 289.559259 167.822859 \nL 289.868719 175.04543 \nL 290.384025 169.816413 \nL 290.487745 171.63779 \nL 290.69671 178.093851 \nL 290.768928 176.981247 \nL 291.313925 159.531367 \nL 291.587915 143.822523 \nL 291.737554 140.893968 \nL 292.317061 105.653865 \nL 292.415333 103.26459 \nL 292.517706 104.076202 \nL 292.621454 103.179686 \nL 292.931067 91.46609 \nL 293.034377 90.774173 \nL 293.105846 91.672468 \nL 293.516176 110.776832 \nL 293.827631 124.92914 \nL 293.932394 127.58359 \nL 294.54814 158.606642 \nL 294.754634 156.947283 \nL 295.060478 163.594454 \nL 295.236559 164.946835 \nL 295.447748 166.63508 \nL 295.649084 162.87859 \nL 295.75803 162.998312 \nL 295.857833 163.085742 \nL 296.062423 165.306031 \nL 296.170827 165.487265 \nL 296.372717 170.725043 \nL 296.681349 177.973598 \nL 297.095007 187.344392 \nL 297.404299 177.59832 \nL 297.477645 177.334809 \nL 298.091738 186.110004 \nL 298.198041 185.955354 \nL 298.29689 183.261053 \nL 298.888502 152.343467 \nL 299.021211 153.041595 \nL 299.197995 148.71083 \nL 299.298674 150.055936 \nL 299.507758 153.454709 \nL 299.817654 149.147762 \nL 299.919152 148.14765 \nL 300.326729 127.640105 \nL 300.431918 128.442138 \nL 300.91846 145.775756 \nL 301.050991 145.988879 \nL 301.463801 134.935731 \nL 301.53825 135.093994 \nL 301.639852 134.747274 \nL 301.874116 123.830965 \nL 302.15097 101.791088 \nL 302.46177 89.068192 \nL 302.8746 56.466146 \nL 303.080787 41.739991 \nL 303.361547 24.919645 \nL 303.494469 24.424098 \nL 303.67075 20.583636 \nL 303.769156 20.668933 \nL 304.290669 50.04232 \nL 304.799302 85.026938 \nL 304.905197 84.403045 \nL 305.004604 85.337348 \nL 305.109599 90.132654 \nL 305.626498 135.405868 \nL 305.936541 140.912241 \nL 306.055243 140.524512 \nL 306.211931 133.486192 \nL 306.320522 132.479787 \nL 306.418267 134.64261 \nL 306.52017 132.746905 \nL 306.935279 110.186008 \nL 307.140847 127.365202 \nL 307.244921 131.69132 \nL 307.657862 119.933413 \nL 307.828312 113.96046 \nL 307.968304 114.702875 \nL 308.138671 122.527776 \nL 308.447595 141.959273 \nL 308.551552 143.081258 \nL 308.656755 146.713227 \nL 309.0649 182.654965 \nL 309.171291 182.196064 \nL 309.274301 183.721029 \nL 309.376691 183.418373 \nL 309.583978 180.847661 \nL 309.687367 179.664216 \nL 309.760612 181.543335 \nL 309.859082 181.170137 \nL 309.997023 176.652864 \nL 310.272102 157.182648 \nL 310.379957 154.679766 \nL 310.684534 167.364094 \nL 310.819508 167.114102 \nL 310.891254 166.54197 \nL 311.200675 160.084795 \nL 311.304438 160.199062 \nL 311.407658 156.496832 \nL 311.613975 143.120838 \nL 311.791114 138.039914 \nL 311.888841 138.287175 \nL 312.026714 142.133117 \nL 312.302025 165.914137 \nL 312.508589 163.244733 \nL 313.02474 124.186915 \nL 313.230786 122.664357 \nL 313.334559 123.724323 \nL 313.436845 123.312429 \nL 313.511164 124.812112 \nL 314.130733 155.509606 \nL 314.228944 157.807959 \nL 314.440451 155.61197 \nL 314.539975 156.985574 \nL 314.64158 156.758718 \nL 314.851432 173.629167 \nL 315.055075 182.379066 \nL 315.540462 151.871436 \nL 315.777062 153.090994 \nL 315.850772 150.790872 \nL 315.94753 151.129512 \nL 316.086729 152.879527 \nL 316.160882 152.295751 \nL 316.263404 152.634622 \nL 316.571487 156.22037 \nL 316.77489 161.445002 \nL 316.881222 163.86006 \nL 317.084894 161.733503 \nL 317.29084 165.1287 \nL 317.497357 164.802932 \nL 317.703516 162.998562 \nL 317.842068 158.213533 \nL 317.97886 148.424989 \nL 318.391773 151.056087 \nL 318.499738 152.60405 \nL 318.603831 152.243006 \nL 318.736506 150.516214 \nL 319.113734 135.411846 \nL 319.218729 137.61252 \nL 319.423903 150.671015 \nL 319.733521 172.780343 \nL 319.902954 181.518955 \nL 320.146949 193.424354 \nL 320.220808 190.264615 \nL 320.731353 146.278153 \nL 320.834732 145.808552 \nL 321.039174 149.008848 \nL 321.144291 149.121778 \nL 321.454131 144.959549 \nL 321.557915 145.344505 \nL 321.63156 146.077424 \nL 321.763697 145.052825 \nL 321.943738 140.160288 \nL 322.042447 140.343534 \nL 322.176873 139.550943 \nL 322.250575 136.919768 \nL 322.353065 138.602288 \nL 322.761131 171.239717 \nL 322.899666 171.60019 \nL 322.972728 172.464449 \nL 323.278027 165.78124 \nL 323.58777 145.323265 \nL 323.66129 145.337284 \nL 323.793268 146.28536 \nL 324.27826 162.047941 \nL 324.382851 161.940424 \nL 324.618029 164.389135 \nL 324.79138 164.150316 \nL 325.100956 168.653573 \nL 325.409104 172.919052 \nL 325.689191 192.861337 \nL 325.938089 185.878714 \nL 326.10396 174.257843 \nL 326.338531 170.539966 \nL 326.412769 171.092096 \nL 326.655029 168.28214 \nL 326.819816 157.72467 \nL 327.131089 135.307303 \nL 327.33782 136.362095 \nL 327.542784 140.05739 \nL 327.647179 140.356899 \nL 328.058437 144.453741 \nL 328.443633 153.605793 \nL 328.750369 158.933624 \nL 328.849687 162.170682 \nL 329.159302 185.286209 \nL 329.262371 184.505521 \nL 329.776667 152.783166 \nL 329.986862 146.559466 \nL 330.296681 137.241758 \nL 330.47365 131.176139 \nL 330.881374 105.149851 \nL 331.092913 98.94858 \nL 331.189498 99.120269 \nL 331.398273 102.52057 \nL 331.706989 112.188499 \nL 331.913882 110.522288 \nL 332.016638 112.317369 \nL 332.119748 111.486834 \nL 332.192147 112.01641 \nL 332.327775 115.494316 \nL 332.430192 115.330816 \nL 332.59991 104.00745 \nL 332.739537 106.099312 \nL 332.911486 118.080091 \nL 333.122887 121.611597 \nL 333.220898 121.565444 \nL 333.322566 121.117257 \nL 333.427705 121.906632 \nL 334.046762 132.460913 \nL 334.150048 132.496624 \nL 334.459454 138.737201 \nL 334.769254 156.313794 \nL 334.842915 156.362751 \nL 335.152553 134.861766 \nL 335.352811 130.300925 \nL 335.457618 130.161254 \nL 335.56545 130.287099 \nL 335.663825 130.988047 \nL 336.077126 121.693954 \nL 336.180957 122.669299 \nL 336.253453 122.133413 \nL 336.873259 109.401138 \nL 336.971219 110.398075 \nL 337.284456 118.235107 \nL 337.38425 118.228599 \nL 337.488885 117.285975 \nL 337.79685 101.293767 \nL 337.900608 103.535683 \nL 338.003197 102.103638 \nL 338.276444 85.578462 \nL 338.518285 88.661453 \nL 338.828642 83.600868 \nL 338.903215 83.667515 \nL 339.003363 83.119362 \nL 339.21282 86.928477 \nL 339.315692 90.799768 \nL 339.413823 88.636601 \nL 339.72384 72.880069 \nL 339.93098 79.912425 \nL 340.033454 78.17669 \nL 340.446223 96.976468 \nL 340.549855 96.048217 \nL 340.722365 91.617018 \nL 340.859644 93.281689 \nL 341.134473 102.64139 \nL 341.444114 108.014741 \nL 342.063215 155.624122 \nL 342.166657 156.692124 \nL 342.269666 154.747858 \nL 342.341759 155.694569 \nL 342.476473 159.713907 \nL 342.580674 158.261274 \nL 342.754802 141.004463 \nL 343.577515 106.002131 \nL 343.887066 76.644892 \nL 344.093345 66.35451 \nL 344.300732 50.651766 \nL 344.709584 66.253944 \nL 345.018686 94.840613 \nL 345.194249 98.036539 \nL 345.405757 108.388147 \nL 345.503587 107.530205 \nL 345.715745 99.461405 \nL 346.020426 110.763104 \nL 346.1343 110.409997 \nL 346.329234 113.239159 \nL 346.711145 94.389265 \nL 346.816111 94.46356 \nL 347.051501 97.032874 \nL 347.224342 98.848463 \nL 347.53411 97.581372 \nL 347.744405 109.797327 \nL 347.946831 119.50242 \nL 348.050266 117.661396 \nL 348.153511 119.216995 \nL 348.360303 129.715134 \nL 348.670051 165.402982 \nL 348.978832 175.034351 \nL 349.081835 176.60841 \nL 349.163521 176.525672 \nL 349.254161 176.238977 \nL 349.563752 173.286087 \nL 349.775879 173.864405 \nL 350.079885 158.238965 \nL 350.286844 161.462163 \nL 350.595855 155.109509 \nL 350.802639 147.250331 \nL 350.876553 147.540213 \nL 351.009186 150.852676 \nL 351.112476 150.477116 \nL 351.186288 149.606952 \nL 351.495665 138.553535 \nL 351.593528 140.556522 \nL 351.805799 148.010141 \nL 351.903702 145.142706 \nL 352.006394 147.097784 \nL 352.209023 157.040348 \nL 352.419633 154.730596 \nL 352.521135 155.121195 \nL 352.624104 154.835999 \nL 352.72937 155.914059 \nL 352.905081 166.77262 \nL 353.038808 166.470678 \nL 353.314148 160.186816 \nL 353.45216 163.00335 \nL 353.622468 174.890884 \nL 353.727126 175.758202 \nL 354.036959 158.095899 \nL 354.245265 153.035983 \nL 354.553073 142.159662 \nL 354.862943 126.936983 \nL 354.934852 121.080601 \nL 355.069687 119.189049 \nL 355.240355 123.417251 \nL 355.482052 119.415305 \nL 355.865183 88.38911 \nL 355.965911 87.788011 \nL 356.376439 110.483544 \nL 356.789632 129.745903 \nL 356.965911 146.792928 \nL 357.098708 147.119659 \nL 357.275777 143.947596 \nL 357.512128 148.357629 \nL 357.685985 159.784765 \nL 357.89563 170.985572 \nL 357.995368 171.68485 \nL 358.096582 171.438254 \nL 358.308544 165.061295 \nL 358.405192 166.92844 \nL 358.996388 135.087201 \nL 359.128513 134.486593 \nL 359.231305 135.726862 \nL 359.303796 134.279386 \nL 359.541054 127.377215 \nL 359.612768 126.932481 \nL 359.812448 128.323135 \nL 359.917142 130.576831 \nL 360.225531 142.581013 \nL 360.330075 140.006279 \nL 360.535361 121.005708 \nL 360.6379 121.438258 \nL 360.95071 140.656707 \nL 361.433437 103.864502 \nL 361.570091 104.32866 \nL 361.746135 102.146223 \nL 361.845506 101.881461 \nL 361.952525 101.078626 \nL 362.156172 92.172564 \nL 362.46472 77.589215 \nL 362.981457 103.373748 \nL 363.18677 105.886298 \nL 363.290822 106.759033 \nL 363.363068 111.744295 \nL 363.363068 111.744295 \n\" style=\"fill:none;stroke:#000000;stroke-linecap:square;stroke-width:1.5;\"/>\n   </g>\n   <g id=\"patch_3\">\n    <path d=\"M 43.78125 228.14 \nL 43.78125 10.7 \n\" style=\"fill:none;stroke:#000000;stroke-linecap:square;stroke-linejoin:miter;stroke-width:0.8;\"/>\n   </g>\n   <g id=\"patch_4\">\n    <path d=\"M 378.58125 228.14 \nL 378.58125 10.7 \n\" style=\"fill:none;stroke:#000000;stroke-linecap:square;stroke-linejoin:miter;stroke-width:0.8;\"/>\n   </g>\n   <g id=\"patch_5\">\n    <path d=\"M 43.78125 228.14 \nL 378.58125 228.14 \n\" style=\"fill:none;stroke:#000000;stroke-linecap:square;stroke-linejoin:miter;stroke-width:0.8;\"/>\n   </g>\n   <g id=\"patch_6\">\n    <path d=\"M 43.78125 10.7 \nL 378.58125 10.7 \n\" style=\"fill:none;stroke:#000000;stroke-linecap:square;stroke-linejoin:miter;stroke-width:0.8;\"/>\n   </g>\n  </g>\n </g>\n <defs>\n  <clipPath id=\"pb655daefe7\">\n   <rect height=\"217.44\" width=\"334.8\" x=\"43.78125\" y=\"10.7\"/>\n  </clipPath>\n </defs>\n</svg>\n",
      "text/plain": "<Figure size 432x288 with 1 Axes>"
     },
     "metadata": {
      "needs_background": "light"
     },
     "output_type": "display_data"
    }
   ],
   "source": [
    "pyl.plot(timestamps, smooth_thetas, color='black')\n",
    "pyl.xlabel('Time')\n",
    "pyl.ylabel('Power?')\n",
    "pyl.savefig('smooth_thetas')\n",
    "if table is not None:\n",
    "    for a in corrects:\n",
    "        pyl.axvline(x=a, color='purple')\n",
    "    for b in incorrects:\n",
    "        pyl.axvline(x=b, color='orange')"
   ]
  },
  {
   "cell_type": "code",
   "execution_count": null,
   "metadata": {},
   "outputs": [],
   "source": [
    "pyl.plot(timestamps, smooth_alphas, color='black')\n",
    "pyl.xlabel('Time')\n",
    "pyl.ylabel('Power?')\n",
    "pyl.savefig('smooth_alphas')\n",
    "if table is not None:\n",
    "    for a in corrects:\n",
    "        pyl.axvline(x=a, color='purple')\n",
    "    for b in incorrects:\n",
    "        pyl.axvline(x=b, color='orange')"
   ]
  },
  {
   "cell_type": "code",
   "execution_count": null,
   "metadata": {},
   "outputs": [],
   "source": [
    "pyl.plot(timestamps, smooth_betas, color='black')\n",
    "pyl.xlabel('Time')\n",
    "pyl.ylabel('Power?')\n",
    "pyl.savefig('smooth_betas')\n",
    "if table is not None:\n",
    "    for a in corrects:\n",
    "        pyl.axvline(x=a, color='purple')\n",
    "    for b in incorrects:\n",
    "        pyl.axvline(x=b, color='orange')"
   ]
  },
  {
   "cell_type": "code",
   "execution_count": null,
   "metadata": {},
   "outputs": [],
   "source": [
    "pyl.plot(timestamps, smooth_gammas, color='black')\n",
    "pyl.xlabel('Time')\n",
    "pyl.ylabel('Power?')\n",
    "pyl.savefig('smooth_gammas')\n",
    "if table is not None:\n",
    "    for a in corrects:\n",
    "        pyl.axvline(x=a, color='purple')\n",
    "    for b in incorrects:\n",
    "        pyl.axvline(x=b, color='orange')"
   ]
  },
  {
   "cell_type": "code",
   "execution_count": null,
   "metadata": {},
   "outputs": [],
   "source": [
    "# Alpha Protocol:\n",
    "# Simple redout of alpha power, divided by delta waves in order to rule out noise\n",
    "alpha_over_delta = []\n",
    "# Beta Protocol:\n",
    "# Beta waves have been used as a measure of mental activity and concentration\n",
    "# This beta over theta ratio is commonly used as neurofeedback for ADHD\n",
    "beta_over_theta = []\n",
    "# Alpha/Theta Protocol:\n",
    "# This is another popular neurofeedback metric for stress reduction\n",
    "# Higher theta over alpha is supposedly associated with reduced anxiety\n",
    "theta_over_alpha = []\n",
    "# Gamma/Beta:\n",
    "# I suspect this may indicate when a person's intuition is at its strongest.\n",
    "# Gamma waves have been associated with psi phenomena by multiple other researchers.\n",
    "# Beta brainwaves are associated with analytical thinking, which is widely believed to inhibit psi.\n",
    "gamma_over_beta = []\n",
    "# here we go!\n",
    "for x in range(len(smooth_deltas)):\n",
    "    alpha_over_delta.append(smooth_alphas[x] / smooth_deltas[x])\n",
    "    beta_over_theta.append(smooth_betas[x] / smooth_thetas[x])\n",
    "    theta_over_alpha.append(smooth_thetas[x] / smooth_alphas[x])\n",
    "    gamma_over_beta.append(smooth_gammas[x] / smooth_betas[x])"
   ]
  },
  {
   "cell_type": "code",
   "execution_count": null,
   "metadata": {},
   "outputs": [],
   "source": [
    "pyl.plot(timestamps, gamma_over_beta, color='black')\n",
    "pyl.xlabel('Time')\n",
    "pyl.ylabel('Power?')\n",
    "pyl.savefig('gamma_over_beta')\n",
    "if table is not None:\n",
    "    for a in corrects:\n",
    "        pyl.axvline(x=a, color='purple')\n",
    "    for b in incorrects:\n",
    "        pyl.axvline(x=b, color='orange')"
   ]
  },
  {
   "cell_type": "code",
   "execution_count": null,
   "metadata": {},
   "outputs": [],
   "source": [
    "pyl.plot(timestamps, beta_over_theta, color='black')\n",
    "pyl.xlabel('Time')\n",
    "pyl.ylabel('Power?')\n",
    "pyl.savefig('beta_over_theta')\n",
    "if table is not None:\n",
    "    for a in corrects:\n",
    "        pyl.axvline(x=a, color='purple')\n",
    "    for b in incorrects:\n",
    "        pyl.axvline(x=b, color='orange')"
   ]
  },
  {
   "cell_type": "code",
   "execution_count": null,
   "metadata": {},
   "outputs": [],
   "source": [
    "pyl.plot(timestamps, theta_over_alpha, color='black')\n",
    "pyl.xlabel('Time')\n",
    "pyl.ylabel('Power?')\n",
    "pyl.savefig('theta_over_alpha')\n",
    "if table is not None:\n",
    "    for a in corrects:\n",
    "        pyl.axvline(x=a, color='purple')\n",
    "    for b in incorrects:\n",
    "        pyl.axvline(x=b, color='orange')"
   ]
  },
  {
   "cell_type": "code",
   "execution_count": null,
   "metadata": {},
   "outputs": [],
   "source": [
    "pyl.plot(timestamps, alpha_over_delta, color='black')\n",
    "pyl.xlabel('Time')\n",
    "pyl.ylabel('Power?')\n",
    "pyl.savefig('alpha_over_delta')\n",
    "if table is not None:\n",
    "    for a in corrects:\n",
    "        pyl.axvline(x=a, color='purple')\n",
    "    for b in incorrects:\n",
    "        pyl.axvline(x=b, color='orange')"
   ]
  },
  {
   "cell_type": "code",
   "execution_count": null,
   "metadata": {},
   "outputs": [],
   "source": [
    "ceiling = 2\n",
    "#\n",
    "remove_these = []\n",
    "alpha_timestamps = timestamps.copy()\n",
    "for x in range(len(alpha_over_delta)):\n",
    "    if abs(alpha_over_delta[x]) > ceiling:\n",
    "        remove_these.append(x)\n",
    "if len(remove_these) > 0:\n",
    "    limited_alpha = []\n",
    "    limited_alpha_timestamps = []\n",
    "    remove_these.reverse()\n",
    "    for y in remove_these:\n",
    "        if alpha_over_delta[y] > 0:\n",
    "            limited_alpha.append(ceiling)\n",
    "        else:\n",
    "            limited_alpha.append(-ceiling)\n",
    "        limited_alpha_timestamps.append(alpha_timestamps[y])\n",
    "        alpha_over_delta.remove(alpha_over_delta[y])\n",
    "        alpha_timestamps.remove(alpha_timestamps[y])\n",
    "#\n",
    "remove_these = []\n",
    "beta_timestamps = timestamps.copy()\n",
    "for x in range(len(beta_over_theta)):\n",
    "    if abs(beta_over_theta[x]) > ceiling:\n",
    "        remove_these.append(x)\n",
    "if len(remove_these) > 0:\n",
    "    limited_beta = []\n",
    "    limited_beta_timestamps = []\n",
    "    remove_these.reverse()\n",
    "    for y in remove_these:\n",
    "        if beta_over_theta[y] > 0:\n",
    "            limited_beta.append(ceiling)\n",
    "        else:\n",
    "            limited_beta.append(-ceiling)\n",
    "        limited_beta_timestamps.append(beta_timestamps[y])\n",
    "        beta_over_theta.remove(beta_over_theta[y])\n",
    "        beta_timestamps.remove(beta_timestamps[y])\n",
    "#\n",
    "remove_these = []\n",
    "theta_timestamps = timestamps.copy()\n",
    "for x in range(len(theta_over_alpha)):\n",
    "    if abs(theta_over_alpha[x]) > ceiling:\n",
    "        remove_these.append(x)\n",
    "if len(remove_these) > 0:\n",
    "    limited_theta = []\n",
    "    limited_theta_timestamps = []\n",
    "    remove_these.reverse()\n",
    "    for y in remove_these:\n",
    "        if theta_over_alpha[y] > 0:\n",
    "            limited_theta.append(ceiling)\n",
    "        else:\n",
    "            limited_theta.append(-ceiling)\n",
    "        limited_theta_timestamps.append(theta_timestamps[y])\n",
    "        theta_over_alpha.remove(theta_over_alpha[y])\n",
    "        theta_timestamps.remove(theta_timestamps[y])\n",
    "#\n",
    "remove_these = []\n",
    "gamma_timestamps = timestamps.copy()\n",
    "for x in range(len(gamma_over_beta)):\n",
    "    if abs(gamma_over_beta[x]) > ceiling:\n",
    "        remove_these.append(x)\n",
    "if len(remove_these) > 0:\n",
    "    limited_gamma = []\n",
    "    limited_gamma_timestamps = []\n",
    "    remove_these.reverse()\n",
    "    for y in remove_these:\n",
    "        if gamma_over_beta[y] > 0:\n",
    "            limited_gamma.append(ceiling)\n",
    "        else:\n",
    "            limited_gamma.append(-ceiling)\n",
    "        limited_gamma_timestamps.append(gamma_timestamps[y])\n",
    "        gamma_over_beta.remove(gamma_over_beta[y])\n",
    "        gamma_timestamps.remove(gamma_timestamps[y])"
   ]
  },
  {
   "cell_type": "code",
   "execution_count": null,
   "metadata": {},
   "outputs": [],
   "source": [
    "if len(limited_gamma) > 0:\n",
    "    pyl.plot(gamma_timestamps, gamma_over_beta, color='black')\n",
    "    pyl.scatter(limited_gamma_timestamps, limited_gamma, color='red')\n",
    "    pyl.xlabel('Time')\n",
    "    pyl.ylabel('Power?')\n",
    "    if table is not None:\n",
    "        for a in corrects:\n",
    "            pyl.axvline(x=a, color='purple')\n",
    "        for b in incorrects:\n",
    "            pyl.axvline(x=b, color='orange')\n",
    "    pyl.savefig('limited_gamma')"
   ]
  },
  {
   "cell_type": "code",
   "execution_count": null,
   "metadata": {},
   "outputs": [],
   "source": [
    "if len(limited_beta) > 0:\n",
    "    pyl.plot(beta_timestamps, beta_over_theta, color='black')\n",
    "    pyl.scatter(limited_beta_timestamps, limited_beta, color='red')\n",
    "    pyl.xlabel('Time')\n",
    "    pyl.ylabel('Power?')\n",
    "    if table is not None:\n",
    "        for a in corrects:\n",
    "            pyl.axvline(x=a, color='purple')\n",
    "        for b in incorrects:\n",
    "            pyl.axvline(x=b, color='orange')\n",
    "    pyl.savefig('limited_beta')"
   ]
  },
  {
   "cell_type": "code",
   "execution_count": null,
   "metadata": {},
   "outputs": [],
   "source": [
    "if len(limited_theta) > 0:\n",
    "    pyl.plot(theta_timestamps, theta_over_alpha, color='black')\n",
    "    pyl.scatter(limited_theta_timestamps, limited_theta, color='red')\n",
    "    pyl.xlabel('Time')\n",
    "    pyl.ylabel('Power?')\n",
    "    if table is not None:\n",
    "        for a in corrects:\n",
    "            pyl.axvline(x=a, color='purple')\n",
    "        for b in incorrects:\n",
    "            pyl.axvline(x=b, color='orange')\n",
    "    pyl.save_fig('limited_theta')"
   ]
  },
  {
   "cell_type": "code",
   "execution_count": null,
   "metadata": {},
   "outputs": [],
   "source": [
    "if len(limited_alpha) > 0:\n",
    "    pyl.plot(alpha_timestamps, alpha_over_delta, color='black')\n",
    "    pyl.scatter(limited_alpha_timestamps, limited_alpha, color='red')\n",
    "    pyl.xlabel('Time')\n",
    "    pyl.ylabel('Power?')\n",
    "    if table is not None:\n",
    "        for a in corrects:\n",
    "            pyl.axvline(x=a, color='purple')\n",
    "        for b in incorrects:\n",
    "            pyl.axvline(x=b, color='orange')\n",
    "    pyl.save_fig('limited_alpha')"
   ]
  },
  {
   "cell_type": "code",
   "execution_count": null,
   "metadata": {},
   "outputs": [],
   "source": [
    "try:\n",
    "    curs.close()\n",
    "    db.close()\n",
    "except Exception:\n",
    "    pass"
   ]
  },
  {
   "cell_type": "code",
   "execution_count": null,
   "metadata": {},
   "outputs": [],
   "source": []
  }
 ],
 "metadata": {
  "kernelspec": {
   "display_name": "Python 3",
   "language": "python",
   "name": "python3"
  },
  "language_info": {
   "codemirror_mode": {
    "name": "ipython",
    "version": 3
   },
   "file_extension": ".py",
   "mimetype": "text/x-python",
   "name": "python",
   "nbconvert_exporter": "python",
   "pygments_lexer": "ipython3",
   "version": "3.5.3-final"
  }
 },
 "nbformat": 4,
 "nbformat_minor": 4
}