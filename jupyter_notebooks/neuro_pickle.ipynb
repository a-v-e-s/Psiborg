{
 "cells": [
  {
   "cell_type": "code",
   "execution_count": null,
   "metadata": {},
   "outputs": [],
   "source": [
    "import os, pickle, sqlite3\n",
    "import matplotlib.pyplot as plt\n",
    "from tkinter.filedialog import askopenfilename\n",
    "#\n",
    "filename = askopenfilename()"
   ]
  },
  {
   "cell_type": "code",
   "execution_count": null,
   "metadata": {},
   "outputs": [],
   "source": [
    "directory = os.path.dirname(filename)\n",
    "with open(filename, 'rb') as f:\n",
    "    data = pickle.load(f)\n",
    "\"\"\"\n",
    "# when i get all of this straightened out...\n",
    "if input('Save plotted figures? [y/n]').lower() == 'y':\n",
    "    savefigs = True\n",
    "else:\n",
    "    savefigs = False\n",
    "\n",
    "try:\n",
    "    ceiling = int(input('Set ceiling for busted ratio graphs: (pick an integer)'))\n",
    "except ValueError:\n",
    "    print(Invalid input. Setting ceiling = 2')\n",
    "    ceiling = 2\n",
    "\"\"\"\n",
    "# for now, however\n",
    "savefigs = False\n",
    "ceiling = 2"
   ]
  },
  {
   "cell_type": "code",
   "execution_count": null,
   "metadata": {},
   "outputs": [],
   "source": [
    "timestamps = []\n",
    "for x in range(len(data)):\n",
    "    for y in data[x].keys():\n",
    "        timestamps.append(y)"
   ]
  },
  {
   "cell_type": "code",
   "execution_count": null,
   "metadata": {},
   "outputs": [],
   "source": [
    "#if input('Do you want to work with data from the sqlite database? [y/n]').lower() == 'y':\n",
    "db = sqlite3.Connection('../db.sqlite')\n",
    "curs = db.cursor()\n",
    "tables = curs.execute(\"SELECT name FROM sqlite_master WHERE type='table' ORDER BY name;\").fetchall()[2:]\n",
    "tables = [x[0] for x in tables]\n",
    "for x in tables:\n",
    "    start_time = curs.execute('SELECT MIN(Timestamp) FROM ' + x + ';').fetchall()[0][0]\n",
    "    if start_time > timestamps[0] and start_time < timestamps[-1]:\n",
    "        table = x\n",
    "        break\n",
    "try:\n",
    "    print('Using table: ' + table)\n",
    "except NameError:\n",
    "    print('Could not find a table with timestamps matching EEG data.')\n",
    "    table = None\n",
    "    curs.close()\n",
    "    db.close()\n",
    "#else:\n",
    "#    table = None\n",
    "#\n",
    "os.chdir(os.path.dirname(filename))"
   ]
  },
  {
   "cell_type": "code",
   "execution_count": null,
   "metadata": {},
   "outputs": [],
   "source": [
    "deltas = []\n",
    "thetas = []\n",
    "alphas = []\n",
    "betas = []\n",
    "gammas = []"
   ]
  },
  {
   "cell_type": "code",
   "execution_count": null,
   "metadata": {},
   "outputs": [],
   "source": [
    "for x in range(len(data)):\n",
    "    for y in data[x].values():\n",
    "        for z in range(len(y[0])):\n",
    "            if z == 0:\n",
    "                deltas.append(y[0][z])\n",
    "            elif z == 1:\n",
    "                thetas.append(y[0][z])\n",
    "            elif z == 2:\n",
    "                alphas.append(y[0][z])\n",
    "            elif z == 3:\n",
    "                betas.append(y[0][z])\n",
    "            elif z == 4:\n",
    "                gammas.append(y[0][z])"
   ]
  },
  {
   "cell_type": "code",
   "execution_count": null,
   "metadata": {},
   "outputs": [],
   "source": [
    "delta_abs = [abs(x) for x in deltas]\n",
    "theta_abs = [abs(x) for x in thetas]\n",
    "alpha_abs = [abs(x) for x in alphas]\n",
    "beta_abs = [abs(x) for x in betas]\n",
    "gamma_abs = [abs(x) for x in gammas]"
   ]
  },
  {
   "cell_type": "code",
   "execution_count": null,
   "metadata": {},
   "outputs": [],
   "source": [
    "smooth_deltas = []\n",
    "smooth_thetas = []\n",
    "smooth_alphas = []\n",
    "smooth_betas = []\n",
    "smooth_gammas = []"
   ]
  },
  {
   "cell_type": "code",
   "execution_count": null,
   "metadata": {},
   "outputs": [],
   "source": [
    "for x in range(len(data)):\n",
    "    for y in data[x].values():\n",
    "        for z in range(len(y[1])):\n",
    "            if z == 0:\n",
    "                smooth_deltas.append(y[1][z])\n",
    "            elif z == 1:\n",
    "                smooth_thetas.append(y[1][z])\n",
    "            elif z == 2:\n",
    "                smooth_alphas.append(y[1][z])\n",
    "            elif z == 3:\n",
    "                smooth_betas.append(y[1][z])\n",
    "            elif z == 4:\n",
    "                smooth_gammas.append(y[1][z])"
   ]
  },
  {
   "cell_type": "code",
   "execution_count": null,
   "metadata": {},
   "outputs": [],
   "source": [
    "# am i going to use these?\n",
    "sm_delta_abs = [abs(x) for x in smooth_deltas]\n",
    "sm_theta_abs = [abs(x) for x in smooth_thetas]\n",
    "sm_alpha_abs = [abs(x) for x in smooth_alphas]\n",
    "sm_beta_abs = [abs(x) for x in smooth_betas]\n",
    "sm_gamma_abs = [abs(x) for x in smooth_gammas]"
   ]
  },
  {
   "cell_type": "code",
   "execution_count": null,
   "metadata": {},
   "outputs": [],
   "source": [
    "if table is not None:\n",
    "    corrects = curs.execute('select timestamp from ' + table + ' where Correct=1;').fetchall()\n",
    "    incorrects = curs.execute('select timestamp from ' + table + ' where Correct=0;').fetchall()"
   ]
  },
  {
   "cell_type": "code",
   "execution_count": null,
   "metadata": {},
   "outputs": [],
   "source": [
    "print('len(timestamps):', len(timestamps))\n",
    "print('len(deltas):', len(deltas))\n",
    "print('len(smooth_deltas):', len(smooth_deltas))\n",
    "width = len(timestamps) // 5\n",
    "print('width:', width)\n",
    "height = width // 5\n",
    "print('height:', height)"
   ]
  },
  {
   "cell_type": "code",
   "execution_count": null,
   "metadata": {},
   "outputs": [],
   "source": [
    "plt.figure(figsize=(width,height))\n",
    "plt.plot(timestamps, smooth_deltas, color='black')\n",
    "plt.xlabel('Time')\n",
    "plt.ylabel('Power?')\n",
    "if table is not None:\n",
    "    for a in corrects:\n",
    "        plt.axvline(x=a, color='purple')\n",
    "    for b in incorrects:\n",
    "        plt.axvline(x=b, color='orange')\n",
    "plt.show()"
   ]
  },
  {
   "cell_type": "code",
   "execution_count": null,
   "metadata": {},
   "outputs": [],
   "source": [
    "plt.figure(figsize=(width,height))\n",
    "plt.plot(timestamps, smooth_thetas, color='black')\n",
    "plt.xlabel('Time')\n",
    "plt.ylabel('Power?')\n",
    "if table is not None:\n",
    "    for a in corrects:\n",
    "        plt.axvline(x=a, color='purple')\n",
    "    for b in incorrects:\n",
    "        plt.axvline(x=b, color='orange')\n",
    "plt.show()"
   ]
  },
  {
   "cell_type": "code",
   "execution_count": null,
   "metadata": {},
   "outputs": [],
   "source": [
    "plt.figure(figsize=(width,height))\n",
    "plt.plot(timestamps, smooth_alphas, color='black')\n",
    "plt.xlabel('Time')\n",
    "plt.ylabel('Power?')\n",
    "if table is not None:\n",
    "    for a in corrects:\n",
    "        plt.axvline(x=a, color='purple')\n",
    "    for b in incorrects:\n",
    "        plt.axvline(x=b, color='orange')\n",
    "plt.show()"
   ]
  },
  {
   "cell_type": "code",
   "execution_count": null,
   "metadata": {},
   "outputs": [],
   "source": [
    "plt.figure(figsize=(width,height))\n",
    "plt.plot(timestamps, smooth_betas, color='black')\n",
    "plt.xlabel('Time')\n",
    "plt.ylabel('Power?')\n",
    "if table is not None:\n",
    "    for a in corrects:\n",
    "        plt.axvline(x=a, color='purple')\n",
    "    for b in incorrects:\n",
    "        plt.axvline(x=b, color='orange')\n",
    "plt.show()"
   ]
  },
  {
   "cell_type": "code",
   "execution_count": null,
   "metadata": {},
   "outputs": [],
   "source": [
    "plt.figure(figsize=(width,height))\n",
    "plt.plot(timestamps, smooth_gammas, color='black')\n",
    "plt.xlabel('Time')\n",
    "plt.ylabel('Power?')\n",
    "if table is not None:\n",
    "    for a in corrects:\n",
    "        plt.axvline(x=a, color='purple')\n",
    "    for b in incorrects:\n",
    "        plt.axvline(x=b, color='orange')\n",
    "plt.show()"
   ]
  },
  {
   "cell_type": "code",
   "execution_count": null,
   "metadata": {},
   "outputs": [],
   "source": [
    "# Alpha Protocol:\n",
    "# Simple redout of alpha power, divided by delta waves in order to rule out noise\n",
    "alpha_over_delta = []\n",
    "# Beta Protocol:\n",
    "# Beta waves have been used as a measure of mental activity and concentration\n",
    "# This beta over theta ratio is commonly used as neurofeedback for ADHD\n",
    "beta_over_theta = []\n",
    "# Alpha/Theta Protocol:\n",
    "# This is another popular neurofeedback metric for stress reduction\n",
    "# Higher theta over alpha is supposedly associated with reduced anxiety\n",
    "theta_over_alpha = []\n",
    "# Gamma/Beta:\n",
    "# I suspect this may indicate when a person's intuition is at its strongest.\n",
    "# Gamma waves have been associated with psi phenomena by multiple other researchers.\n",
    "# Beta brainwaves are associated with analytical thinking, which is widely believed to inhibit psi.\n",
    "gamma_over_beta = []\n",
    "# here we go!\n",
    "for x in range(len(smooth_deltas)):\n",
    "    alpha_over_delta.append(smooth_alphas[x] / smooth_deltas[x])\n",
    "    beta_over_theta.append(smooth_betas[x] / smooth_thetas[x])\n",
    "    theta_over_alpha.append(smooth_thetas[x] / smooth_alphas[x])\n",
    "    gamma_over_beta.append(smooth_gammas[x] / smooth_betas[x])"
   ]
  },
  {
   "cell_type": "code",
   "execution_count": null,
   "metadata": {},
   "outputs": [],
   "source": [
    "def not_busted(name, timestamps, ratio):\n",
    "    plt.figure(figsize=(width,height))\n",
    "    plt.suptitle(name)\n",
    "    plt.plot(timestamps, beta_over_theta, color='black')\n",
    "    plt.xlabel('Time')\n",
    "    plt.ylabel('Power?')\n",
    "    if table is not None:\n",
    "        for a in corrects:\n",
    "            plt.axvline(x=a, color='purple')\n",
    "        for b in incorrects:\n",
    "            plt.axvline(x=b, color='orange')\n",
    "    if savefigs == True:\n",
    "        plt.save(os.path.join(directory, name))\n",
    "    else:\n",
    "        plt.show()"
   ]
  },
  {
   "cell_type": "code",
   "execution_count": null,
   "metadata": {},
   "outputs": [],
   "source": [
    "def ceiling_busted(name, timestamps, limited_timestamps, ratio, limited_ratio):\n",
    "    plt.figure(figsize=(width,height))\n",
    "    plt.suptitle(name)\n",
    "    plt.plot(timestamps, ratio, color='black')\n",
    "    plt.scatter(limited_timestamps, limited_ratio, color='red')\n",
    "    plt.xlabel('Time')\n",
    "    plt.ylabel('Power?')\n",
    "    if table is not None:\n",
    "        for a in corrects:\n",
    "            plt.axvline(x=a, color='purple')\n",
    "        for b in incorrects:\n",
    "            plt.axvline(x=b, color='orange')\n",
    "    if savefigs == True:\n",
    "        plt.save(os.path.join(directory, name))\n",
    "    else:\n",
    "        plt.show()"
   ]
  },
  {
   "cell_type": "code",
   "execution_count": null,
   "metadata": {},
   "outputs": [],
   "source": [
    "remove_these = []\n",
    "alpha_timestamps = timestamps.copy()\n",
    "for x in range(len(alpha_over_delta)):\n",
    "    if abs(alpha_over_delta[x]) > ceiling:\n",
    "        remove_these.append(x)\n",
    "if len(remove_these) > 0:\n",
    "    limited_alpha = []\n",
    "    limited_alpha_timestamps = []\n",
    "    remove_these.reverse()\n",
    "    for y in remove_these:\n",
    "        if alpha_over_delta[y] > 0:\n",
    "            limited_alpha.append(ceiling)\n",
    "        else:\n",
    "            limited_alpha.append(-ceiling)\n",
    "        limited_alpha_timestamps.append(alpha_timestamps[y])\n",
    "        alpha_over_delta.remove(alpha_over_delta[y])\n",
    "        alpha_timestamps.remove(alpha_timestamps[y])\n",
    "    #\n",
    "    print('ceiling busted!')\n",
    "    ceiling_busted('alpha_over_delta', alpha_timestamps, limited_alpha_timestamps, alpha_over_delta, limited_alpha)\n",
    "else:\n",
    "    print('not busted!')\n",
    "    not_busted('alpha_over_delta', alpha_timestamps, alpha_over_delta)"
   ]
  },
  {
   "cell_type": "code",
   "execution_count": null,
   "metadata": {},
   "outputs": [],
   "source": [
    "remove_these = []\n",
    "gamma_timestamps = timestamps.copy()\n",
    "for x in range(len(gamma_over_beta)):\n",
    "    if abs(gamma_over_beta[x]) > ceiling:\n",
    "        remove_these.append(x)\n",
    "if len(remove_these) > 0:\n",
    "    limited_gamma = []\n",
    "    limited_gamma_timestamps = []\n",
    "    remove_these.reverse()\n",
    "    for y in remove_these:\n",
    "        if gamma_over_beta[y] > 0:\n",
    "            limited_gamma.append(ceiling)\n",
    "        else:\n",
    "            limited_gamma.append(-ceiling)\n",
    "        limited_gamma_timestamps.append(gamma_timestamps[y])\n",
    "        gamma_over_beta.remove(gamma_over_beta[y])\n",
    "        gamma_timestamps.remove(gamma_timestamps[y])\n",
    "    #\n",
    "    print('ceiling busted!')\n",
    "    ceiling_busted('gamma_over_beta', gamma_timestamps, limited_gamma_timestamps, gamma_over_beta, limited_gamma)\n",
    "else:\n",
    "    print('not busted')\n",
    "    not_busted('gamma_over_beta', gamma_timestamps, gamma_over_beta)"
   ]
  },
  {
   "cell_type": "code",
   "execution_count": null,
   "metadata": {},
   "outputs": [],
   "source": [
    "remove_these = []\n",
    "theta_timestamps = timestamps.copy()\n",
    "for x in range(len(theta_over_alpha)):\n",
    "    if abs(theta_over_alpha[x]) > ceiling:\n",
    "        remove_these.append(x)\n",
    "if len(remove_these) > 0:\n",
    "    limited_theta = []\n",
    "    limited_theta_timestamps = []\n",
    "    remove_these.reverse()\n",
    "    for y in remove_these:\n",
    "        if theta_over_alpha[y] > 0:\n",
    "            limited_theta.append(ceiling)\n",
    "        else:\n",
    "            limited_theta.append(-ceiling)\n",
    "        limited_theta_timestamps.append(theta_timestamps[y])\n",
    "        theta_over_alpha.remove(theta_over_alpha[y])\n",
    "        theta_timestamps.remove(theta_timestamps[y])\n",
    "    #\n",
    "    print('ceiling busted!')\n",
    "    ceiling_busted('theta_over_alpha', theta_timestamps, limited_theta_timestamps, theta_over_alpha, limited_theta)\n",
    "else:\n",
    "    print('not busted')\n",
    "    not_busted('theta_over_alpha', theta_timestamps, theta_over_alpha)"
   ]
  },
  {
   "cell_type": "code",
   "execution_count": null,
   "metadata": {},
   "outputs": [],
   "source": [
    "remove_these = []\n",
    "beta_timestamps = timestamps.copy()\n",
    "for x in range(len(beta_over_theta)):\n",
    "    if abs(beta_over_theta[x]) > ceiling:\n",
    "        remove_these.append(x)\n",
    "if len(remove_these) > 0:\n",
    "    limited_beta = []\n",
    "    limited_beta_timestamps = []\n",
    "    remove_these.reverse()\n",
    "    for y in remove_these:\n",
    "        if beta_over_theta[y] > 0:\n",
    "            limited_beta.append(ceiling)\n",
    "        else:\n",
    "            limited_beta.append(-ceiling)\n",
    "        limited_beta_timestamps.append(beta_timestamps[y])\n",
    "        beta_over_theta.remove(beta_over_theta[y])\n",
    "        beta_timestamps.remove(beta_timestamps[y])\n",
    "    #\n",
    "    print('ceiling busted!')\n",
    "    ceiling_busted('beta_over_theta', beta_timestamps, limited_beta_timestamps, beta_over_theta, limited_beta)\n",
    "else:\n",
    "    print('not busted')\n",
    "    not_busted('beta_over_theta', beta_timestamps, beta_over_theta)"
   ]
  },
  {
   "cell_type": "code",
   "execution_count": null,
   "metadata": {},
   "outputs": [],
   "source": [
    "try:\n",
    "    curs.close()\n",
    "    db.close()\n",
    "except Exception:\n",
    "    pass"
   ]
  },
  {
   "cell_type": "code",
   "execution_count": null,
   "metadata": {},
   "outputs": [],
   "source": []
  }
 ],
 "metadata": {
  "kernelspec": {
   "display_name": "Python 3",
   "language": "python",
   "name": "python3"
  },
  "language_info": {
   "codemirror_mode": {
    "name": "ipython",
    "version": 3
   },
   "file_extension": ".py",
   "mimetype": "text/x-python",
   "name": "python",
   "nbconvert_exporter": "python",
   "pygments_lexer": "ipython3",
   "version": "3.5.3-final"
  }
 },
 "nbformat": 4,
 "nbformat_minor": 4
}