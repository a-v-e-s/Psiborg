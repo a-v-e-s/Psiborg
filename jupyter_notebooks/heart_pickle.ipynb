{
 "nbformat": 4,
 "nbformat_minor": 2,
 "metadata": {
  "language_info": {
   "name": "python",
   "codemirror_mode": {
    "name": "ipython",
    "version": 3
   },
   "version": "3.5.3-final"
  },
  "orig_nbformat": 2,
  "file_extension": ".py",
  "mimetype": "text/x-python",
  "name": "python",
  "npconvert_exporter": "python",
  "pygments_lexer": "ipython3",
  "version": 3,
  "kernelspec": {
   "name": "python35364bit5da6bff6833f44f8b758c1d4ff4b6c28",
   "display_name": "Python 3.5.3 64-bit"
  }
 },
 "cells": [
  {
   "cell_type": "code",
   "execution_count": null,
   "metadata": {},
   "outputs": [],
   "source": [
    "import os, pickle, sqlite3\n",
    "import matplotlib.pyplot as plt\n",
    "from tkinter.filedialog import askopenfilename\n",
    "#\n",
    "filename = askopenfilename()"
   ]
  },
  {
   "cell_type": "code",
   "execution_count": null,
   "metadata": {},
   "outputs": [],
   "source": [
    "directory = os.path.dirname(filename)\n",
    "with open(filename, 'rb') as f:\n",
    "    data = pickle.load(f)\n",
    "# for now:\n",
    "savefigs = False"
   ]
  },
  {
   "cell_type": "code",
   "execution_count": null,
   "metadata": {},
   "outputs": [],
   "source": [
    "timestamps = sorted(list(data.keys()))\n",
    "charges = {}\n",
    "pulses = {}\n",
    "ibis = {}\n",
    "for x in timestamps:\n",
    "    if data[x].startswith(b'S'):\n",
    "        charges[x] = data[x]\n",
    "    elif data[x].startswith(b'B'):\n",
    "        pulses[x] = data[x]\n",
    "    elif data[x].startswith(b'Q'):\n",
    "        ibis[x] = data[x]\n",
    "    else:\n",
    "        print('Unit of unknown type found')"
   ]
  },
  {
   "cell_type": "code",
   "execution_count": null,
   "metadata": {},
   "outputs": [],
   "source": [
    "db = sqlite3.Connection('../db.sqlite')\n",
    "curs = db.cursor()\n",
    "tables = curs.execute(\"SELECT name FROM sqlite_master WHERE type='table' ORDER BY name;\").fetchall()[2:]\n",
    "tables = [x[0] for x in tables]\n",
    "for x in tables:\n",
    "    start_time = curs.execute('SELECT MIN(Timestamp) FROM ' + x + ';').fetchall()[0][0]\n",
    "    if start_time > timestamps[0] and start_time < timestamps[-1]:\n",
    "        table = x\n",
    "        break\n",
    "#\n",
    "try:\n",
    "    print('Using table: ' + table)\n",
    "except NameError:\n",
    "    print('Could not find a table with timestamps matching EEG data.')\n",
    "    table = None\n",
    "    curs.close()\n",
    "    db.close()\n",
    "#\n",
    "if table is not None:\n",
    "    corrects = curs.execute('select timestamp from ' + table + ' where Correct=1;').fetchall()\n",
    "    incorrects = curs.execute('select timestamp from ' + table + ' where Correct=0;').fetchall()\n",
    "#\n",
    "os.chdir(directory)"
   ]
  },
  {
   "cell_type": "code",
   "execution_count": null,
   "metadata": {},
   "outputs": [],
   "source": [
    "#width = len(timestamps) // 25\n",
    "#height = width // 5"
   ]
  },
  {
   "cell_type": "code",
   "execution_count": null,
   "metadata": {},
   "outputs": [],
   "source": [
    "charge_times = sorted(list(charges.keys()))\n",
    "charge_values = [charges[x] for x in charge_times]\n",
    "#\n",
    "width = len(charge_times) // 25\n",
    "height = width // 5\n",
    "#\n",
    "plt.figure(figsize=(width,height))\n",
    "plt.plot(charge_times, charge_values, color='black')\n",
    "plt.xlabel('Time')\n",
    "plt.ylabel('Charge')\n",
    "if table is not None:\n",
    "    for a in corrects:\n",
    "        plt.axvline(x=a, color='purple')\n",
    "    for b in incorrects:\n",
    "        plt.axvline(x=b, color='orange')\n",
    "plt.show()\n",
    "if savefigs:\n",
    "    plt.savefig('ekg_charge')"
   ]
  },
  {
   "cell_type": "code",
   "execution_count": null,
   "metadata": {},
   "outputs": [],
   "source": [
    "pulse_times = sorted(list(pulses.keys()))\n",
    "pulse_values = [pulses[x] for x in pulse_times]\n",
    "#\n",
    "width = len(pulse_times) // 25\n",
    "height = width // 5\n",
    "#\n",
    "plt.figure(figsize=(width,height))\n",
    "plt.plot(pulse_times, pulse_values, color='black')\n",
    "plt.xlabel('Time')\n",
    "plt.ylabel('Pulse Rate')\n",
    "if table is not None:\n",
    "    for a in corrects:\n",
    "        plt.axvline(x=a, color='purple')\n",
    "    for b in incorrects:\n",
    "        plt.axvline(x=b, color='orange')\n",
    "plt.show()\n",
    "if savefigs:\n",
    "    plt.save('ekg_pulse')"
   ]
  },
  {
   "cell_type": "code",
   "execution_count": null,
   "metadata": {},
   "outputs": [],
   "source": [
    "ibi_times = sorted(list(ibis.keys()))\n",
    "ibi_values = [ibis[x] for x in ibi_times]\n",
    "#\n",
    "width = len(ibi_times) // 25\n",
    "height = width // 5\n",
    "#\n",
    "plt.figure(figsize=(width,height))\n",
    "plt.plot(ibi_values, ibi_times, color='black')\n",
    "plt.xlabel('Time')\n",
    "plt.ylabel('Inter-Beat Interval?')\n",
    "if table is not None:\n",
    "    for a in corrects:\n",
    "        plt.axvline(x=a, color='purple')\n",
    "    for b in incorrects:\n",
    "        plt.axvline(x=b, color='orange')\n",
    "plt.show()\n",
    "if savefigs:\n",
    "    plt.save('ekg_ibi')"
   ]
  },
  {
   "cell_type": "code",
   "execution_count": null,
   "metadata": {},
   "outputs": [],
   "source": [
    "try:\n",
    "    curs.close()\n",
    "    db.close()\n",
    "except Exception:\n",
    "    pass"
   ]
  },
  {
   "cell_type": "code",
   "execution_count": null,
   "metadata": {},
   "outputs": [],
   "source": []
  }
 ]
}