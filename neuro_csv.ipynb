{
 "nbformat": 4,
 "nbformat_minor": 2,
 "metadata": {
  "language_info": {
   "name": "python",
   "codemirror_mode": {
    "name": "ipython",
    "version": 3
   },
   "version": "3.5.3-final"
  },
  "orig_nbformat": 2,
  "file_extension": ".py",
  "mimetype": "text/x-python",
  "name": "python",
  "npconvert_exporter": "python",
  "pygments_lexer": "ipython3",
  "version": 3,
  "kernelspec": {
   "name": "python35364bit5da6bff6833f44f8b758c1d4ff4b6c28",
   "display_name": "Python 3.5.3 64-bit"
  }
 },
 "cells": [
  {
   "cell_type": "code",
   "execution_count": 18,
   "metadata": {},
   "outputs": [],
   "source": [
    "import matplotlib.pyplot as plt\n",
    "from tkinter.filedialog import askopenfilename\n",
    "from multiprocessing import Process\n",
    "from time import time"
   ]
  },
  {
   "cell_type": "code",
   "execution_count": 19,
   "metadata": {},
   "outputs": [],
   "source": [
    "def get_columns(csv):\n",
    "    timestamps = []\n",
    "    TP9 = []\n",
    "    AF7 = []\n",
    "    AF8 = []\n",
    "    TP10 = []\n",
    "    for x in csv[1:]:\n",
    "        row = x.split(',')\n",
    "        timestamps.append(row[0])\n",
    "        TP9.append(row[1])\n",
    "        AF7.append(row[2])\n",
    "        AF8.append(row[3])\n",
    "        TP10.append(row[4])\n",
    "    \n",
    "    return timestamps, TP9, AF7, AF8, TP10"
   ]
  },
  {
   "cell_type": "code",
   "execution_count": 20,
   "metadata": {},
   "outputs": [],
   "source": [
    "def plot(name, timestamps, electrode):\n",
    "    plt.figure(figsize=(width, height))\n",
    "    plt.suptitle(name)\n",
    "    plt.plot(timestamps, electrode)\n",
    "    plt.xlabel('Time')\n",
    "    plt.ylabel(name)\n",
    "    plt.savefig('turtle')"
   ]
  },
  {
   "cell_type": "code",
   "execution_count": 21,
   "metadata": {},
   "outputs": [],
   "source": [
    "filename = askopenfilename()\n",
    "with open(filename, 'r') as f:\n",
    "    csv = f.readlines()\n",
    "\n",
    "timestamps, TP9, AF7, AF8, TP10 = get_columns(csv)"
   ]
  },
  {
   "cell_type": "code",
   "execution_count": 22,
   "metadata": {},
   "outputs": [
    {
     "name": "stdout",
     "output_type": "stream",
     "text": "p1 time: 841.867303609848\n"
    }
   ],
   "source": [
    "length = len(TP9) // 20\n",
    "electrode = TP9.copy()[:length]\n",
    "stamps = timestamps.copy()[:length]\n",
    "width = len(csv) // 200000\n",
    "height = 5\n",
    "p1 = Process(target=plot, args=('TP9', stamps, electrode))\n",
    "\n",
    "# this is to limit the outrageous amount of RAM these processes can consume, \\\n",
    "# not to increase speed:\n",
    "start = time()\n",
    "p1.start()\n",
    "p1.join()\n",
    "finish = time()\n",
    "print('p1 time:', finish-start)"
   ]
  },
  {
   "cell_type": "code",
   "execution_count": 23,
   "metadata": {},
   "outputs": [],
   "source": [
    "p2 = Process(target=plot, args=('AF7', timestamps, AF7))\n"
   ]
  },
  {
   "cell_type": "code",
   "execution_count": 24,
   "metadata": {},
   "outputs": [],
   "source": [
    "p3 = Process(target=plot, args=('AF8', timestamps, AF8))\n"
   ]
  },
  {
   "cell_type": "code",
   "execution_count": 25,
   "metadata": {},
   "outputs": [],
   "source": [
    "p4 = Process(target=plot, args=('TP10', timestamps, TP10))\n"
   ]
  }
 ]
}